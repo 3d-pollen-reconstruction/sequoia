{
 "cells": [
  {
   "cell_type": "markdown",
   "metadata": {},
   "source": [
    "# Experiment 1: Fine-Tuning / From Scratch Training"
   ]
  },
  {
   "cell_type": "code",
   "execution_count": 27,
   "metadata": {},
   "outputs": [],
   "source": [
    "import pandas as pd\n",
    "import pyvista as pv"
   ]
  },
  {
   "cell_type": "code",
   "execution_count": 13,
   "metadata": {},
   "outputs": [],
   "source": [
    "results = pd.read_csv(\"../eval/TestEvaluation/mesh_eval_results.csv\")"
   ]
  },
  {
   "cell_type": "code",
   "execution_count": 26,
   "metadata": {},
   "outputs": [
    {
     "data": {
      "text/html": [
       "<div>\n",
       "<style scoped>\n",
       "    .dataframe tbody tr th:only-of-type {\n",
       "        vertical-align: middle;\n",
       "    }\n",
       "\n",
       "    .dataframe tbody tr th {\n",
       "        vertical-align: top;\n",
       "    }\n",
       "\n",
       "    .dataframe thead th {\n",
       "        text-align: right;\n",
       "    }\n",
       "</style>\n",
       "<table border=\"1\" class=\"dataframe\">\n",
       "  <thead>\n",
       "    <tr style=\"text-align: right;\">\n",
       "      <th></th>\n",
       "      <th>model</th>\n",
       "      <th>mean_chamfer</th>\n",
       "      <th>std_chamfer</th>\n",
       "      <th>mean_fscore_1</th>\n",
       "      <th>std_fscore_1</th>\n",
       "      <th>mean_fscore_2_5</th>\n",
       "      <th>std_fscore_2_5</th>\n",
       "      <th>mean_fscore_5</th>\n",
       "      <th>std_fscore_5</th>\n",
       "      <th>mean_iou</th>\n",
       "      <th>std_iou</th>\n",
       "    </tr>\n",
       "  </thead>\n",
       "  <tbody>\n",
       "    <tr>\n",
       "      <th>0</th>\n",
       "      <td>pix2vox_aug</td>\n",
       "      <td>0.059839</td>\n",
       "      <td>0.020741</td>\n",
       "      <td>0.166688</td>\n",
       "      <td>0.060798</td>\n",
       "      <td>0.603350</td>\n",
       "      <td>0.151200</td>\n",
       "      <td>0.848221</td>\n",
       "      <td>0.121432</td>\n",
       "      <td>0.713982</td>\n",
       "      <td>0.176484</td>\n",
       "    </tr>\n",
       "    <tr>\n",
       "      <th>1</th>\n",
       "      <td>pix2vox_aug_frozen_encdec</td>\n",
       "      <td>0.056526</td>\n",
       "      <td>0.017044</td>\n",
       "      <td>0.180305</td>\n",
       "      <td>0.063962</td>\n",
       "      <td>0.619251</td>\n",
       "      <td>0.149610</td>\n",
       "      <td>0.850548</td>\n",
       "      <td>0.099744</td>\n",
       "      <td>0.678091</td>\n",
       "      <td>0.139773</td>\n",
       "    </tr>\n",
       "    <tr>\n",
       "      <th>2</th>\n",
       "      <td>pix2vox_non_pretrained</td>\n",
       "      <td>0.063499</td>\n",
       "      <td>0.018741</td>\n",
       "      <td>0.148749</td>\n",
       "      <td>0.046822</td>\n",
       "      <td>0.568961</td>\n",
       "      <td>0.138251</td>\n",
       "      <td>0.819073</td>\n",
       "      <td>0.118238</td>\n",
       "      <td>0.722673</td>\n",
       "      <td>0.109763</td>\n",
       "    </tr>\n",
       "    <tr>\n",
       "      <th>3</th>\n",
       "      <td>vh_2img</td>\n",
       "      <td>0.091423</td>\n",
       "      <td>0.024904</td>\n",
       "      <td>0.109239</td>\n",
       "      <td>0.040237</td>\n",
       "      <td>0.416278</td>\n",
       "      <td>0.101777</td>\n",
       "      <td>0.664201</td>\n",
       "      <td>0.120545</td>\n",
       "      <td>0.637425</td>\n",
       "      <td>0.090634</td>\n",
       "    </tr>\n",
       "  </tbody>\n",
       "</table>\n",
       "</div>"
      ],
      "text/plain": [
       "                       model  mean_chamfer  std_chamfer  mean_fscore_1  \\\n",
       "0                pix2vox_aug      0.059839     0.020741       0.166688   \n",
       "1  pix2vox_aug_frozen_encdec      0.056526     0.017044       0.180305   \n",
       "2     pix2vox_non_pretrained      0.063499     0.018741       0.148749   \n",
       "3                    vh_2img      0.091423     0.024904       0.109239   \n",
       "\n",
       "   std_fscore_1  mean_fscore_2_5  std_fscore_2_5  mean_fscore_5  std_fscore_5  \\\n",
       "0      0.060798         0.603350        0.151200       0.848221      0.121432   \n",
       "1      0.063962         0.619251        0.149610       0.850548      0.099744   \n",
       "2      0.046822         0.568961        0.138251       0.819073      0.118238   \n",
       "3      0.040237         0.416278        0.101777       0.664201      0.120545   \n",
       "\n",
       "   mean_iou   std_iou  \n",
       "0  0.713982  0.176484  \n",
       "1  0.678091  0.139773  \n",
       "2  0.722673  0.109763  \n",
       "3  0.637425  0.090634  "
      ]
     },
     "execution_count": 26,
     "metadata": {},
     "output_type": "execute_result"
    }
   ],
   "source": [
    "relevant_models = [\n",
    "    \"vh_2img\",   \n",
    "    \"pix2vox_aug\",\n",
    "    \"pix2vox_aug_frozen_encdec\",\n",
    "    \"pix2vox_non_pretrained\",\n",
    "    # extend with Pixel2Mesh++ and PixelNeRF names as in the CSV file\n",
    "]\n",
    "\n",
    "filtered = results[results[\"model\"].isin(relevant_models)]\n",
    "\n",
    "aggregated = filtered.groupby(\"model\", as_index=False).agg(\n",
    "    mean_chamfer         = (\"chamfer\",     \"mean\"),\n",
    "    std_chamfer          = (\"chamfer\",     \"std\"),\n",
    "    mean_fscore_1        = (\"fscore_1\",    \"mean\"),\n",
    "    std_fscore_1         = (\"fscore_1\",    \"std\"),\n",
    "    mean_fscore_2_5      = (\"fscore_2_5\",  \"mean\"),\n",
    "    std_fscore_2_5       = (\"fscore_2_5\",  \"std\"),\n",
    "    mean_fscore_5        = (\"fscore_5\",    \"mean\"),\n",
    "    std_fscore_5         = (\"fscore_5\",    \"std\"),\n",
    "    mean_iou             = (\"voxel_iou\",   \"mean\"),\n",
    "    std_iou              = (\"voxel_iou\",   \"std\"),\n",
    ")\n",
    "\n",
    "aggregated"
   ]
  },
  {
   "cell_type": "code",
   "execution_count": 48,
   "metadata": {},
   "outputs": [
    {
     "data": {
      "application/vnd.jupyter.widget-view+json": {
       "model_id": "95879762e343442a9bc784c7ae48c2ff",
       "version_major": 2,
       "version_minor": 0
      },
      "text/plain": [
       "Widget(value='<iframe src=\"http://localhost:61646/index.html?ui=P_0x20fac77c790_15&reconnect=auto\" class=\"pyvi…"
      ]
     },
     "metadata": {},
     "output_type": "display_data"
    }
   ],
   "source": [
    "from pyvista import examples\n",
    "\n",
    "plotter = pv.Plotter(shape=(2, 2))\n",
    "\n",
    "plotter.subplot(0, 0)\n",
    "plotter.add_text('Render Window 0', font_size=30)\n",
    "globe = examples.load_globe()\n",
    "plotter.show(jupyter_backend='trame')"
   ]
  },
  {
   "cell_type": "code",
   "execution_count": null,
   "metadata": {},
   "outputs": [
    {
     "data": {
      "application/vnd.jupyter.widget-view+json": {
       "model_id": "017faad686f84d1c8dbf9fb6b01c44f4",
       "version_major": 2,
       "version_minor": 0
      },
      "text/plain": [
       "Widget(value='<iframe src=\"http://localhost:61646/index.html?ui=P_0x20fee505750_13&reconnect=auto\" class=\"pyvi…"
      ]
     },
     "metadata": {},
     "output_type": "display_data"
    }
   ],
   "source": [
    "mesh1 = pv.read(\"../TestEvaluationPipeline/data/pix2vox_aug/17781_Common_thyme_Thymus_vulgaris_pollen_grain.stl\")\n",
    "mesh2 = pv.read(\"../TestEvaluationPipeline/data/pix2vox_aug/17781_Common_thyme_Thymus_vulgaris_pollen_grain.stl\")\n",
    "mesh3 = pv.read(\"../TestEvaluationPipeline/data/pix2vox_aug/17781_Common_thyme_Thymus_vulgaris_pollen_grain.stl\")\n",
    "mesh4 = pv.read(\"../TestEvaluationPipeline/data/pix2vox_aug/17781_Common_thyme_Thymus_vulgaris_pollen_grain.stl\")\n",
    "\n",
    "# Suppose meshes is a list of pyvista PolyData objects\n",
    "meshes = [mesh1, mesh2, mesh3, mesh4]\n",
    "\n",
    "# Create a 2×2 grid of subplots\n",
    "plotter = pv.Plotter(shape=(2, 2), off_screen=True)\n",
    "\n",
    "for idx, mesh in enumerate(meshes):\n",
    "    i, j = divmod(idx, 2)\n",
    "    plotter.subplot(i, j)\n",
    "    plotter.add_text(f\"Mesh {idx+1}\", font_size=12)\n",
    "    plotter.add_mesh(mesh, show_edges=True)\n",
    "\n",
    "# Optionally link camera views across subplots\n",
    "plotter.link_views()\n",
    "\n",
    "# Render and save screenshot\n",
    "plotter.show(screenshot=\"mesh_grid.png\", window_size=(800, 800))"
   ]
  },
  {
   "cell_type": "code",
   "execution_count": null,
   "metadata": {},
   "outputs": [],
   "source": []
  }
 ],
 "metadata": {
  "kernelspec": {
   "display_name": ".venv",
   "language": "python",
   "name": "python3"
  },
  "language_info": {
   "codemirror_mode": {
    "name": "ipython",
    "version": 3
   },
   "file_extension": ".py",
   "mimetype": "text/x-python",
   "name": "python",
   "nbconvert_exporter": "python",
   "pygments_lexer": "ipython3",
   "version": "3.11.9"
  }
 },
 "nbformat": 4,
 "nbformat_minor": 2
}
