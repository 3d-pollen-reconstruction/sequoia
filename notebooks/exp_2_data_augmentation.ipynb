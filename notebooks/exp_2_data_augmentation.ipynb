{
 "cells": [
  {
   "cell_type": "markdown",
   "metadata": {},
   "source": [
    "# Experiment 2: Data Augmentatio"
   ]
  },
  {
   "cell_type": "code",
   "execution_count": 1,
   "metadata": {},
   "outputs": [],
   "source": [
    "import pandas as pd"
   ]
  },
  {
   "cell_type": "code",
   "execution_count": 2,
   "metadata": {},
   "outputs": [],
   "source": [
    "results = pd.read_csv(\"../eval/TestEvaluation/mesh_eval_results.csv\")"
   ]
  },
  {
   "cell_type": "code",
   "execution_count": 5,
   "metadata": {},
   "outputs": [
    {
     "data": {
      "text/html": [
       "<div>\n",
       "<style scoped>\n",
       "    .dataframe tbody tr th:only-of-type {\n",
       "        vertical-align: middle;\n",
       "    }\n",
       "\n",
       "    .dataframe tbody tr th {\n",
       "        vertical-align: top;\n",
       "    }\n",
       "\n",
       "    .dataframe thead th {\n",
       "        text-align: right;\n",
       "    }\n",
       "</style>\n",
       "<table border=\"1\" class=\"dataframe\">\n",
       "  <thead>\n",
       "    <tr style=\"text-align: right;\">\n",
       "      <th></th>\n",
       "      <th>model</th>\n",
       "      <th>mean_chamfer</th>\n",
       "      <th>std_chamfer</th>\n",
       "      <th>mean_fscore_1</th>\n",
       "      <th>std_fscore_1</th>\n",
       "      <th>mean_fscore_2_5</th>\n",
       "      <th>std_fscore_2_5</th>\n",
       "      <th>mean_fscore_5</th>\n",
       "      <th>std_fscore_5</th>\n",
       "      <th>mean_iou</th>\n",
       "      <th>std_iou</th>\n",
       "    </tr>\n",
       "  </thead>\n",
       "  <tbody>\n",
       "    <tr>\n",
       "      <th>0</th>\n",
       "      <td>pix2vox_aug</td>\n",
       "      <td>0.059839</td>\n",
       "      <td>0.020741</td>\n",
       "      <td>0.166688</td>\n",
       "      <td>0.060798</td>\n",
       "      <td>0.603350</td>\n",
       "      <td>0.151200</td>\n",
       "      <td>0.848221</td>\n",
       "      <td>0.121432</td>\n",
       "      <td>0.713982</td>\n",
       "      <td>0.176484</td>\n",
       "    </tr>\n",
       "    <tr>\n",
       "      <th>1</th>\n",
       "      <td>pix2vox_base</td>\n",
       "      <td>0.067947</td>\n",
       "      <td>0.022273</td>\n",
       "      <td>0.153941</td>\n",
       "      <td>0.056904</td>\n",
       "      <td>0.558601</td>\n",
       "      <td>0.132500</td>\n",
       "      <td>0.805877</td>\n",
       "      <td>0.118578</td>\n",
       "      <td>0.610673</td>\n",
       "      <td>0.199088</td>\n",
       "    </tr>\n",
       "    <tr>\n",
       "      <th>2</th>\n",
       "      <td>vh_2img</td>\n",
       "      <td>0.091423</td>\n",
       "      <td>0.024904</td>\n",
       "      <td>0.109239</td>\n",
       "      <td>0.040237</td>\n",
       "      <td>0.416278</td>\n",
       "      <td>0.101777</td>\n",
       "      <td>0.664201</td>\n",
       "      <td>0.120545</td>\n",
       "      <td>0.637425</td>\n",
       "      <td>0.090634</td>\n",
       "    </tr>\n",
       "  </tbody>\n",
       "</table>\n",
       "</div>"
      ],
      "text/plain": [
       "          model  mean_chamfer  std_chamfer  mean_fscore_1  std_fscore_1  \\\n",
       "0   pix2vox_aug      0.059839     0.020741       0.166688      0.060798   \n",
       "1  pix2vox_base      0.067947     0.022273       0.153941      0.056904   \n",
       "2       vh_2img      0.091423     0.024904       0.109239      0.040237   \n",
       "\n",
       "   mean_fscore_2_5  std_fscore_2_5  mean_fscore_5  std_fscore_5  mean_iou  \\\n",
       "0         0.603350        0.151200       0.848221      0.121432  0.713982   \n",
       "1         0.558601        0.132500       0.805877      0.118578  0.610673   \n",
       "2         0.416278        0.101777       0.664201      0.120545  0.637425   \n",
       "\n",
       "    std_iou  \n",
       "0  0.176484  \n",
       "1  0.199088  \n",
       "2  0.090634  "
      ]
     },
     "execution_count": 5,
     "metadata": {},
     "output_type": "execute_result"
    }
   ],
   "source": [
    "relevant_models = [\n",
    "    \"vh_2img\",\n",
    "    \"pix2vox_base\",\n",
    "    \"pix2vox_aug\",\n",
    "    # extend with Pixel2Mesh++ and PixelNeRF names as in the CSV file\n",
    "]\n",
    "\n",
    "filtered = results[results[\"model\"].isin(relevant_models)]\n",
    "\n",
    "aggregated = filtered.groupby(\"model\", as_index=False).agg(\n",
    "    mean_chamfer         = (\"chamfer\",     \"mean\"),\n",
    "    std_chamfer          = (\"chamfer\",     \"std\"),\n",
    "    mean_fscore_1        = (\"fscore_1\",    \"mean\"),\n",
    "    std_fscore_1         = (\"fscore_1\",    \"std\"),\n",
    "    mean_fscore_2_5      = (\"fscore_2_5\",  \"mean\"),\n",
    "    std_fscore_2_5       = (\"fscore_2_5\",  \"std\"),\n",
    "    mean_fscore_5        = (\"fscore_5\",    \"mean\"),\n",
    "    std_fscore_5         = (\"fscore_5\",    \"std\"),\n",
    "    mean_iou             = (\"voxel_iou\",   \"mean\"),\n",
    "    std_iou              = (\"voxel_iou\",   \"std\"),\n",
    ")\n",
    "\n",
    "aggregated"
   ]
  },
  {
   "cell_type": "code",
   "execution_count": null,
   "metadata": {},
   "outputs": [],
   "source": []
  }
 ],
 "metadata": {
  "kernelspec": {
   "display_name": ".venv",
   "language": "python",
   "name": "python3"
  },
  "language_info": {
   "codemirror_mode": {
    "name": "ipython",
    "version": 3
   },
   "file_extension": ".py",
   "mimetype": "text/x-python",
   "name": "python",
   "nbconvert_exporter": "python",
   "pygments_lexer": "ipython3",
   "version": "3.11.9"
  }
 },
 "nbformat": 4,
 "nbformat_minor": 2
}
