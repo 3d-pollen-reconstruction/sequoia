{
 "cells": [
  {
   "cell_type": "code",
   "execution_count": 2,
   "metadata": {},
   "outputs": [
    {
     "data": {
      "text/plain": [
       "True"
      ]
     },
     "execution_count": 2,
     "metadata": {},
     "output_type": "execute_result"
    }
   ],
   "source": [
    "import trimesh\n",
    "import numpy as np\n",
    "import os\n",
    "from dotenv import load_dotenv\n",
    "from tqdm import tqdm\n",
    "\n",
    "load_dotenv()"
   ]
  },
  {
   "cell_type": "code",
   "execution_count": 3,
   "metadata": {},
   "outputs": [],
   "source": [
    "RAW_MESHES_PATH = os.path.join(os.getenv(\"DATA_DIR_PATH\"), \"raw\")"
   ]
  },
  {
   "cell_type": "code",
   "execution_count": 4,
   "metadata": {},
   "outputs": [
    {
     "name": "stderr",
     "output_type": "stream",
     "text": [
      "  0%|          | 0/207 [00:00<?, ?it/s]"
     ]
    },
    {
     "name": "stderr",
     "output_type": "stream",
     "text": [
      "  4%|▍         | 8/207 [00:02<01:14,  2.68it/s]"
     ]
    },
    {
     "name": "stdout",
     "output_type": "stream",
     "text": [
      "17782_Golden-ray_lily_Lilium_auratum_pollen_grain.stl is not watertight\n"
     ]
    },
    {
     "name": "stderr",
     "output_type": "stream",
     "text": [
      "  6%|▌         | 12/207 [00:04<01:10,  2.75it/s]"
     ]
    },
    {
     "name": "stdout",
     "output_type": "stream",
     "text": [
      "17786_Poppy_Papaver_sp_pollen_grain.stl is not watertight\n"
     ]
    },
    {
     "name": "stderr",
     "output_type": "stream",
     "text": [
      "  6%|▋         | 13/207 [00:04<01:12,  2.68it/s]"
     ]
    },
    {
     "name": "stdout",
     "output_type": "stream",
     "text": [
      "17787_Yellow_iris_Iris_pseudacorus_pollen_grain.stl is not watertight\n"
     ]
    },
    {
     "name": "stderr",
     "output_type": "stream",
     "text": [
      "  8%|▊         | 17/207 [00:06<01:15,  2.50it/s]"
     ]
    },
    {
     "name": "stdout",
     "output_type": "stream",
     "text": [
      "17791_Common_camellia_Camellia_japonica_pollen_grain.stl is not watertight\n"
     ]
    },
    {
     "name": "stderr",
     "output_type": "stream",
     "text": [
      " 10%|█         | 21/207 [00:07<01:15,  2.47it/s]"
     ]
    },
    {
     "name": "stdout",
     "output_type": "stream",
     "text": [
      "17795_Common_heather_Calluna_vulgaris_pollen_grain.stl is not watertight\n"
     ]
    },
    {
     "name": "stderr",
     "output_type": "stream",
     "text": [
      " 11%|█         | 23/207 [00:08<01:29,  2.05it/s]"
     ]
    },
    {
     "name": "stdout",
     "output_type": "stream",
     "text": [
      "17798_Tomato_Solanum_lycopersicum_pollen_grain.stl is not watertight\n"
     ]
    },
    {
     "name": "stderr",
     "output_type": "stream",
     "text": [
      " 12%|█▏        | 25/207 [00:10<01:54,  1.59it/s]"
     ]
    },
    {
     "name": "stdout",
     "output_type": "stream",
     "text": [
      "17801_Clematis_Clematis_sp_pollen_grain.stl is not watertight\n"
     ]
    },
    {
     "name": "stderr",
     "output_type": "stream",
     "text": [
      " 13%|█▎        | 26/207 [00:10<01:43,  1.75it/s]"
     ]
    },
    {
     "name": "stdout",
     "output_type": "stream",
     "text": [
      "17802_Common_whitebeam_Sorbus_aria_pollen_grain.stl is not watertight\n"
     ]
    },
    {
     "name": "stderr",
     "output_type": "stream",
     "text": [
      " 15%|█▍        | 31/207 [00:13<01:48,  1.63it/s]"
     ]
    },
    {
     "name": "stdout",
     "output_type": "stream",
     "text": [
      "17811_White_goosefoot_Chenopodium_album_pollen_grain.stl is not watertight\n"
     ]
    },
    {
     "name": "stderr",
     "output_type": "stream",
     "text": [
      " 15%|█▌        | 32/207 [00:14<02:04,  1.40it/s]"
     ]
    },
    {
     "name": "stdout",
     "output_type": "stream",
     "text": [
      "17812_Sweet_cherry_Prunus_avium_pollen_grain.stl is not watertight\n"
     ]
    },
    {
     "name": "stderr",
     "output_type": "stream",
     "text": [
      " 16%|█▌        | 33/207 [00:15<02:19,  1.25it/s]"
     ]
    },
    {
     "name": "stdout",
     "output_type": "stream",
     "text": [
      "17813_Rosemary_Rosmarinus_officinalis_pollen_grain.stl is not watertight\n"
     ]
    },
    {
     "name": "stderr",
     "output_type": "stream",
     "text": [
      " 16%|█▋        | 34/207 [00:16<02:39,  1.08it/s]"
     ]
    },
    {
     "name": "stdout",
     "output_type": "stream",
     "text": [
      "17814_Marigold_Calendula_officinalis_pollen_grain.stl is not watertight\n"
     ]
    },
    {
     "name": "stderr",
     "output_type": "stream",
     "text": [
      " 17%|█▋        | 35/207 [00:17<02:52,  1.00s/it]"
     ]
    },
    {
     "name": "stdout",
     "output_type": "stream",
     "text": [
      "17815_Scotch_broom_Cytisus_scoparius_pollen_grain.stl is not watertight\n"
     ]
    },
    {
     "name": "stderr",
     "output_type": "stream",
     "text": [
      " 17%|█▋        | 36/207 [00:19<03:09,  1.11s/it]"
     ]
    },
    {
     "name": "stdout",
     "output_type": "stream",
     "text": [
      "17816_White_clover_Trifolium_repens_pollen_grain.stl is not watertight\n"
     ]
    },
    {
     "name": "stderr",
     "output_type": "stream",
     "text": [
      " 18%|█▊        | 38/207 [00:22<03:31,  1.25s/it]"
     ]
    },
    {
     "name": "stdout",
     "output_type": "stream",
     "text": [
      "17818_Common_daisy_Bellis_perennis_pollen_grain.stl is not watertight\n"
     ]
    },
    {
     "name": "stderr",
     "output_type": "stream",
     "text": [
      " 19%|█▉        | 39/207 [00:22<03:01,  1.08s/it]"
     ]
    },
    {
     "name": "stdout",
     "output_type": "stream",
     "text": [
      "17819_Oil_seed_rape_Brassica_napus_pollen_grain.stl is not watertight\n"
     ]
    },
    {
     "name": "stderr",
     "output_type": "stream",
     "text": [
      " 20%|█▉        | 41/207 [00:25<03:42,  1.34s/it]"
     ]
    },
    {
     "name": "stdout",
     "output_type": "stream",
     "text": [
      "17821_Wild_garlic_Allium_ursinum_pollen_grain.stl is not watertight\n"
     ]
    },
    {
     "name": "stderr",
     "output_type": "stream",
     "text": [
      " 21%|██        | 43/207 [00:29<04:27,  1.63s/it]"
     ]
    },
    {
     "name": "stdout",
     "output_type": "stream",
     "text": [
      "17823_Common_bulrush_Typhya_latifolia_pollen_grain_isobilateral_tetrad.stl is not watertight\n"
     ]
    },
    {
     "name": "stderr",
     "output_type": "stream",
     "text": [
      " 21%|██▏       | 44/207 [00:31<04:48,  1.77s/it]"
     ]
    },
    {
     "name": "stdout",
     "output_type": "stream",
     "text": [
      "17824_Yellow_archangel_Lamium_galeobdolon_pollen_grain.stl is not watertight\n"
     ]
    },
    {
     "name": "stderr",
     "output_type": "stream",
     "text": [
      " 22%|██▏       | 45/207 [00:36<07:13,  2.68s/it]"
     ]
    },
    {
     "name": "stdout",
     "output_type": "stream",
     "text": [
      "17826_Blue_passion_flower_Passiflora_caerulea_pollen_grain.stl is not watertight\n"
     ]
    },
    {
     "name": "stderr",
     "output_type": "stream",
     "text": [
      " 22%|██▏       | 46/207 [00:38<06:34,  2.45s/it]"
     ]
    },
    {
     "name": "stdout",
     "output_type": "stream",
     "text": [
      "17827_Common_dandelion_Taraxacum_officinale_pollen_grain.stl is not watertight\n"
     ]
    },
    {
     "name": "stderr",
     "output_type": "stream",
     "text": [
      " 23%|██▎       | 47/207 [00:40<06:20,  2.38s/it]"
     ]
    },
    {
     "name": "stdout",
     "output_type": "stream",
     "text": [
      "17829_Rhododendron_Rhododendron_sp_pollen_grain.stl is not watertight\n"
     ]
    },
    {
     "name": "stderr",
     "output_type": "stream",
     "text": [
      " 23%|██▎       | 48/207 [00:43<06:26,  2.43s/it]"
     ]
    },
    {
     "name": "stdout",
     "output_type": "stream",
     "text": [
      "17830_Common_oak_Quercus_robur_pollen_grain.stl is not watertight\n"
     ]
    },
    {
     "name": "stderr",
     "output_type": "stream",
     "text": [
      " 24%|██▎       | 49/207 [00:46<06:56,  2.64s/it]"
     ]
    },
    {
     "name": "stdout",
     "output_type": "stream",
     "text": [
      "17831_Common_holly_Ilex_aquifolium_pollen_grain.stl is not watertight\n"
     ]
    },
    {
     "name": "stderr",
     "output_type": "stream",
     "text": [
      " 24%|██▍       | 50/207 [00:49<07:25,  2.83s/it]"
     ]
    },
    {
     "name": "stdout",
     "output_type": "stream",
     "text": [
      "17832_Common_ivy_Hedera_helix_pollen_grain.stl is not watertight\n"
     ]
    },
    {
     "name": "stderr",
     "output_type": "stream",
     "text": [
      " 25%|██▍       | 51/207 [00:53<08:02,  3.10s/it]"
     ]
    },
    {
     "name": "stdout",
     "output_type": "stream",
     "text": [
      "17833_European_white_water_lily_Nymphaea_alba_pollen_grain.stl is not watertight\n"
     ]
    },
    {
     "name": "stderr",
     "output_type": "stream",
     "text": [
      " 25%|██▌       | 52/207 [00:57<08:41,  3.37s/it]"
     ]
    },
    {
     "name": "stdout",
     "output_type": "stream",
     "text": [
      "17842_Common_hazel_Corylus_avellana_pollen_grain.stl is not watertight\n"
     ]
    },
    {
     "name": "stderr",
     "output_type": "stream",
     "text": [
      " 26%|██▌       | 53/207 [00:59<07:47,  3.04s/it]"
     ]
    },
    {
     "name": "stdout",
     "output_type": "stream",
     "text": [
      "17843_Shining_pondweed_Potamogeton_lucens_pollen_grain.stl is not watertight\n"
     ]
    },
    {
     "name": "stderr",
     "output_type": "stream",
     "text": [
      " 27%|██▋       | 56/207 [01:11<10:00,  3.98s/it]"
     ]
    },
    {
     "name": "stdout",
     "output_type": "stream",
     "text": [
      "17846_Common_fern_Polypodium_vulgare_spore.stl is not watertight\n"
     ]
    },
    {
     "name": "stderr",
     "output_type": "stream",
     "text": [
      " 28%|██▊       | 57/207 [01:12<07:26,  2.98s/it]"
     ]
    },
    {
     "name": "stdout",
     "output_type": "stream",
     "text": [
      "17878_Alder_Alnus_sp_pollen_grain_pentaporate.stl is not watertight\n"
     ]
    },
    {
     "name": "stderr",
     "output_type": "stream",
     "text": [
      " 29%|██▊       | 59/207 [01:18<06:54,  2.80s/it]"
     ]
    },
    {
     "name": "stdout",
     "output_type": "stream",
     "text": [
      "17880_Common_sunflower_Helianthus_annuus_pollen_grain.stl is not watertight\n"
     ]
    },
    {
     "name": "stderr",
     "output_type": "stream",
     "text": [
      " 29%|██▉       | 60/207 [01:20<06:15,  2.55s/it]"
     ]
    },
    {
     "name": "stdout",
     "output_type": "stream",
     "text": [
      "17881_Common_bluebell_Hyacinthoides_non-scripta_pollen_grain.stl is not watertight\n"
     ]
    },
    {
     "name": "stderr",
     "output_type": "stream",
     "text": [
      " 29%|██▉       | 61/207 [01:22<05:50,  2.40s/it]"
     ]
    },
    {
     "name": "stdout",
     "output_type": "stream",
     "text": [
      "17882_Lotus_Nelumbo_nucifera_pollen_grain.stl is not watertight\n"
     ]
    },
    {
     "name": "stderr",
     "output_type": "stream",
     "text": [
      " 30%|██▉       | 62/207 [01:25<06:24,  2.65s/it]"
     ]
    },
    {
     "name": "stdout",
     "output_type": "stream",
     "text": [
      "17883_Evening_primrose_Oenothera_fruticosa_pollen_grain.stl is not watertight\n"
     ]
    },
    {
     "name": "stderr",
     "output_type": "stream",
     "text": [
      " 30%|███       | 63/207 [01:27<05:37,  2.35s/it]"
     ]
    },
    {
     "name": "stdout",
     "output_type": "stream",
     "text": [
      "17884_Peace_lily_Spathiphyllum_cannifolium_pollen_grain.stl is not watertight\n"
     ]
    },
    {
     "name": "stderr",
     "output_type": "stream",
     "text": [
      " 31%|███▏      | 65/207 [01:31<05:25,  2.29s/it]"
     ]
    },
    {
     "name": "stdout",
     "output_type": "stream",
     "text": [
      "17886_Common_wheat_Triticum_aestivan_pollen_grain.stl is not watertight\n"
     ]
    },
    {
     "name": "stderr",
     "output_type": "stream",
     "text": [
      " 32%|███▏      | 67/207 [01:42<10:11,  4.37s/it]"
     ]
    },
    {
     "name": "stdout",
     "output_type": "stream",
     "text": [
      "17900_Germinating_lily_Lilium_sp_pollen_grain.stl is not watertight\n"
     ]
    },
    {
     "name": "stderr",
     "output_type": "stream",
     "text": [
      " 35%|███▍      | 72/207 [01:47<03:48,  1.69s/it]"
     ]
    },
    {
     "name": "stdout",
     "output_type": "stream",
     "text": [
      "20076_Common_bulrush_Typhya_latifolia_pollen_grain_T-shaped_tetrad.stl is not watertight\n"
     ]
    },
    {
     "name": "stderr",
     "output_type": "stream",
     "text": [
      " 36%|███▌      | 75/207 [01:49<02:06,  1.04it/s]"
     ]
    },
    {
     "name": "stdout",
     "output_type": "stream",
     "text": [
      "20098_Alder_Alnus_sp_pollen_grain_tetraporate.stl is not watertight\n"
     ]
    },
    {
     "name": "stderr",
     "output_type": "stream",
     "text": [
      " 37%|███▋      | 76/207 [01:50<02:17,  1.05s/it]"
     ]
    },
    {
     "name": "stdout",
     "output_type": "stream",
     "text": [
      "20099_Common_bulrush_Typhya_latifolia_pollen_grain_rhombohedral_tetrad.stl is not watertight\n"
     ]
    },
    {
     "name": "stderr",
     "output_type": "stream",
     "text": [
      " 39%|███▊      | 80/207 [01:58<04:14,  2.00s/it]"
     ]
    },
    {
     "name": "stdout",
     "output_type": "stream",
     "text": [
      "20471_Herb-Robert_Geranium_robertianum_pollen_grain.stl is not watertight\n"
     ]
    },
    {
     "name": "stderr",
     "output_type": "stream",
     "text": [
      " 40%|████      | 83/207 [02:03<03:38,  1.76s/it]"
     ]
    },
    {
     "name": "stdout",
     "output_type": "stream",
     "text": [
      "20606_Ground_elder_Aegopodium_podagraria_pollen_grain.stl is not watertight\n"
     ]
    },
    {
     "name": "stderr",
     "output_type": "stream",
     "text": [
      " 41%|████      | 85/207 [02:06<03:28,  1.71s/it]"
     ]
    },
    {
     "name": "stdout",
     "output_type": "stream",
     "text": [
      "20608_Thyme-leaf_sandwort_Arenaria_serpyllifolia_pollen_grain.stl is not watertight\n"
     ]
    },
    {
     "name": "stderr",
     "output_type": "stream",
     "text": [
      " 42%|████▏     | 86/207 [02:08<03:15,  1.61s/it]"
     ]
    },
    {
     "name": "stdout",
     "output_type": "stream",
     "text": [
      "20609_Common_wormwood_Artemisia_absinthium_pollen_grain.stl is not watertight\n"
     ]
    },
    {
     "name": "stderr",
     "output_type": "stream",
     "text": [
      " 42%|████▏     | 87/207 [02:09<02:57,  1.48s/it]"
     ]
    },
    {
     "name": "stdout",
     "output_type": "stream",
     "text": [
      "20610_Spear-leaved_orache_Atriplex_hastata_pollen_grain.stl is not watertight\n"
     ]
    },
    {
     "name": "stderr",
     "output_type": "stream",
     "text": [
      " 43%|████▎     | 88/207 [02:13<04:19,  2.18s/it]"
     ]
    },
    {
     "name": "stdout",
     "output_type": "stream",
     "text": [
      "20611_Cuckoo_flower_Cardamine_pratensis_pollen_grain.stl is not watertight\n"
     ]
    },
    {
     "name": "stderr",
     "output_type": "stream",
     "text": [
      " 43%|████▎     | 89/207 [02:15<04:04,  2.07s/it]"
     ]
    },
    {
     "name": "stdout",
     "output_type": "stream",
     "text": [
      "20621_Common_box_Buxus_sempervirens_pollen_grain.stl is not watertight\n"
     ]
    },
    {
     "name": "stderr",
     "output_type": "stream",
     "text": [
      " 44%|████▍     | 91/207 [02:16<02:43,  1.41s/it]"
     ]
    },
    {
     "name": "stdout",
     "output_type": "stream",
     "text": [
      "20701_Herb-Paris_Paris_quadrifolia_pollen_grain.stl is not watertight\n"
     ]
    },
    {
     "name": "stderr",
     "output_type": "stream",
     "text": [
      " 45%|████▍     | 93/207 [02:18<02:00,  1.05s/it]"
     ]
    },
    {
     "name": "stdout",
     "output_type": "stream",
     "text": [
      "20703_Common_lousewort_Pedicularis_sylvatica_pollen_grain_dehydrated.stl is not watertight\n"
     ]
    },
    {
     "name": "stderr",
     "output_type": "stream",
     "text": [
      " 53%|█████▎    | 109/207 [02:27<00:52,  1.86it/s]"
     ]
    },
    {
     "name": "stdout",
     "output_type": "stream",
     "text": [
      "20859_European_larch_Larix_decidua_pollen_grain_shrunken_2.stl is not watertight\n"
     ]
    },
    {
     "name": "stderr",
     "output_type": "stream",
     "text": [
      " 56%|█████▌    | 116/207 [02:32<01:02,  1.45it/s]"
     ]
    },
    {
     "name": "stdout",
     "output_type": "stream",
     "text": [
      "20935_Field_pennycress_Thlaspi_arvense_pollen_grain_1.stl is not watertight\n"
     ]
    },
    {
     "name": "stderr",
     "output_type": "stream",
     "text": [
      " 57%|█████▋    | 117/207 [02:32<01:04,  1.40it/s]"
     ]
    },
    {
     "name": "stdout",
     "output_type": "stream",
     "text": [
      "20936_Field_pennycress_Thlaspi_arvense_pollen_grain_2.stl is not watertight\n"
     ]
    },
    {
     "name": "stderr",
     "output_type": "stream",
     "text": [
      " 57%|█████▋    | 118/207 [02:34<01:34,  1.06s/it]"
     ]
    },
    {
     "name": "stdout",
     "output_type": "stream",
     "text": [
      "20937_Small-leaved_lime_Tilia_cordata_pollen_grain.stl is not watertight\n"
     ]
    },
    {
     "name": "stderr",
     "output_type": "stream",
     "text": [
      " 58%|█████▊    | 120/207 [02:39<02:35,  1.79s/it]"
     ]
    },
    {
     "name": "stdout",
     "output_type": "stream",
     "text": [
      "20939_Western_hemlock_Tsuga_heterophylla_pollen_grain.stl is not watertight\n"
     ]
    },
    {
     "name": "stderr",
     "output_type": "stream",
     "text": [
      " 62%|██████▏   | 129/207 [02:53<01:32,  1.19s/it]"
     ]
    },
    {
     "name": "stdout",
     "output_type": "stream",
     "text": [
      "21103_Round-headed_Rampion_Phyteuma_tenerum_pollen_grain.stl is not watertight\n"
     ]
    },
    {
     "name": "stderr",
     "output_type": "stream",
     "text": [
      " 64%|██████▍   | 132/207 [02:55<01:14,  1.00it/s]"
     ]
    },
    {
     "name": "stdout",
     "output_type": "stream",
     "text": [
      "21106_Butterbur_Petasites_hybridus_pollen_grain.stl is not watertight\n"
     ]
    },
    {
     "name": "stderr",
     "output_type": "stream",
     "text": [
      " 65%|██████▍   | 134/207 [02:57<01:12,  1.00it/s]"
     ]
    },
    {
     "name": "stdout",
     "output_type": "stream",
     "text": [
      "21111_Pellitory_of_the_wall_Parietaria_judaica_pollen_grain.stl is not watertight\n"
     ]
    },
    {
     "name": "stderr",
     "output_type": "stream",
     "text": [
      " 67%|██████▋   | 139/207 [03:04<01:40,  1.48s/it]"
     ]
    },
    {
     "name": "stdout",
     "output_type": "stream",
     "text": [
      "21145_Pine_Pinus_sp_pollen_grain.stl is not watertight\n"
     ]
    },
    {
     "name": "stderr",
     "output_type": "stream",
     "text": [
      " 68%|██████▊   | 140/207 [03:05<01:26,  1.29s/it]"
     ]
    },
    {
     "name": "stdout",
     "output_type": "stream",
     "text": [
      "21184_Black_bryony_Dioscorea_communis_pollen_grain.stl is not watertight\n"
     ]
    },
    {
     "name": "stderr",
     "output_type": "stream",
     "text": [
      " 69%|██████▊   | 142/207 [03:06<00:58,  1.11it/s]"
     ]
    },
    {
     "name": "stdout",
     "output_type": "stream",
     "text": [
      "21186_Bastard-toadlax_Thesium_humifusum_pollen_grain.stl is not watertight\n"
     ]
    },
    {
     "name": "stderr",
     "output_type": "stream",
     "text": [
      " 70%|██████▉   | 144/207 [03:08<01:03,  1.01s/it]"
     ]
    },
    {
     "name": "stdout",
     "output_type": "stream",
     "text": [
      "21188_Meadow_goats_beard_Tragopogon_pratensis_pollen_grain.stl is not watertight\n"
     ]
    },
    {
     "name": "stderr",
     "output_type": "stream",
     "text": [
      " 70%|███████   | 145/207 [03:10<01:13,  1.18s/it]"
     ]
    },
    {
     "name": "stdout",
     "output_type": "stream",
     "text": [
      "21189_Deergrass_Trichophorum_cespitosum_pollen_grain.stl is not watertight\n"
     ]
    },
    {
     "name": "stderr",
     "output_type": "stream",
     "text": [
      " 71%|███████   | 146/207 [03:11<01:12,  1.19s/it]"
     ]
    },
    {
     "name": "stdout",
     "output_type": "stream",
     "text": [
      "21190_Seaside_arrowgrass_Triglochin_maritima_pollen_grain.stl is not watertight\n"
     ]
    },
    {
     "name": "stderr",
     "output_type": "stream",
     "text": [
      " 72%|███████▏  | 149/207 [03:16<01:44,  1.81s/it]"
     ]
    },
    {
     "name": "stdout",
     "output_type": "stream",
     "text": [
      "21252_Pontic_rhododendron_Rhododendron_ponticum_pollen_grain.stl is not watertight\n"
     ]
    },
    {
     "name": "stderr",
     "output_type": "stream",
     "text": [
      " 72%|███████▏  | 150/207 [03:17<01:28,  1.55s/it]"
     ]
    },
    {
     "name": "stdout",
     "output_type": "stream",
     "text": [
      "21253_Tea-leaved_willow_Salix_phylicifolia_pollen_grain.stl is not watertight\n"
     ]
    },
    {
     "name": "stderr",
     "output_type": "stream",
     "text": [
      " 73%|███████▎  | 151/207 [03:19<01:29,  1.60s/it]"
     ]
    },
    {
     "name": "stdout",
     "output_type": "stream",
     "text": [
      "21254_Black_sedge_Schoenus_nigricans_pollen_grain.stl is not watertight\n"
     ]
    },
    {
     "name": "stderr",
     "output_type": "stream",
     "text": [
      " 74%|███████▍  | 153/207 [03:21<01:12,  1.35s/it]"
     ]
    },
    {
     "name": "stdout",
     "output_type": "stream",
     "text": [
      "21256_German_knotweed_Scleranthus_annuus_pollen_grain_shrunken.stl is not watertight\n"
     ]
    },
    {
     "name": "stderr",
     "output_type": "stream",
     "text": [
      " 75%|███████▌  | 156/207 [03:26<01:10,  1.39s/it]"
     ]
    },
    {
     "name": "stdout",
     "output_type": "stream",
     "text": [
      "21264_European_goldenrod_Solidago_virgaurea_pollen_grain.stl is not watertight\n"
     ]
    },
    {
     "name": "stderr",
     "output_type": "stream",
     "text": [
      " 77%|███████▋  | 159/207 [03:31<01:32,  1.93s/it]"
     ]
    },
    {
     "name": "stdout",
     "output_type": "stream",
     "text": [
      "21267_Rye_Secale_cereale_pollen_grain.stl is not watertight\n"
     ]
    },
    {
     "name": "stderr",
     "output_type": "stream",
     "text": [
      " 78%|███████▊  | 161/207 [03:33<01:01,  1.34s/it]"
     ]
    },
    {
     "name": "stdout",
     "output_type": "stream",
     "text": [
      "21269_Common_sorrel_Rumex_acetosa_pollen_grain_shrunken.stl is not watertight\n"
     ]
    },
    {
     "name": "stderr",
     "output_type": "stream",
     "text": [
      " 79%|███████▊  | 163/207 [03:35<01:01,  1.40s/it]"
     ]
    },
    {
     "name": "stdout",
     "output_type": "stream",
     "text": [
      "21271_White_campion_Silene_alba_pollen_grain_shrunken.stl is not watertight\n"
     ]
    },
    {
     "name": "stderr",
     "output_type": "stream",
     "text": [
      " 80%|████████  | 166/207 [03:39<00:51,  1.26s/it]"
     ]
    },
    {
     "name": "stdout",
     "output_type": "stream",
     "text": [
      "21282_Wood_sanicle_Sanicula_europaea_pollen_grain.stl is not watertight\n"
     ]
    },
    {
     "name": "stderr",
     "output_type": "stream",
     "text": [
      " 81%|████████  | 168/207 [03:41<00:46,  1.20s/it]"
     ]
    },
    {
     "name": "stdout",
     "output_type": "stream",
     "text": [
      "21375_Timothy_Phleum_pratense_pollen_grain_shrunken.stl is not watertight\n"
     ]
    },
    {
     "name": "stderr",
     "output_type": "stream",
     "text": [
      " 83%|████████▎ | 171/207 [03:44<00:40,  1.12s/it]"
     ]
    },
    {
     "name": "stdout",
     "output_type": "stream",
     "text": [
      "21378_Hemp-agrimony_Eupatorium_cannabinum_pollen_grain_shrunken.stl is not watertight\n"
     ]
    },
    {
     "name": "stderr",
     "output_type": "stream",
     "text": [
      " 83%|████████▎ | 172/207 [03:45<00:38,  1.10s/it]"
     ]
    },
    {
     "name": "stdout",
     "output_type": "stream",
     "text": [
      "21379_Hemp-agrimony_Eupatorium_cannabinum_pollen_grain_shrunken.stl is not watertight\n"
     ]
    },
    {
     "name": "stderr",
     "output_type": "stream",
     "text": [
      " 84%|████████▍ | 174/207 [03:51<01:01,  1.87s/it]"
     ]
    },
    {
     "name": "stdout",
     "output_type": "stream",
     "text": [
      "21464_Sweet_vernal_grass_Anthoxanthum_odoratum_pollen_grain.stl is not watertight\n"
     ]
    },
    {
     "name": "stderr",
     "output_type": "stream",
     "text": [
      " 85%|████████▍ | 175/207 [03:54<01:12,  2.28s/it]"
     ]
    },
    {
     "name": "stdout",
     "output_type": "stream",
     "text": [
      "21465_Soft_brome_Bromus_hordeaceus_pollen_grain.stl is not watertight\n"
     ]
    },
    {
     "name": "stderr",
     "output_type": "stream",
     "text": [
      " 86%|████████▌ | 178/207 [03:59<00:50,  1.75s/it]"
     ]
    },
    {
     "name": "stdout",
     "output_type": "stream",
     "text": [
      "21469_Long_beech_fern_Phegopteris_connectilis_spore_1.stl is not watertight\n"
     ]
    },
    {
     "name": "stderr",
     "output_type": "stream",
     "text": [
      " 87%|████████▋ | 180/207 [04:02<00:48,  1.80s/it]"
     ]
    },
    {
     "name": "stdout",
     "output_type": "stream",
     "text": [
      "21471_Autumn_hawkbit_Scorzoneroides_autumnalis_pollen_grain.stl is not watertight\n"
     ]
    },
    {
     "name": "stderr",
     "output_type": "stream",
     "text": [
      " 89%|████████▉ | 184/207 [04:07<00:32,  1.40s/it]"
     ]
    },
    {
     "name": "stdout",
     "output_type": "stream",
     "text": [
      "21532_Blue_sedge_Carex_flacca_pollen_grain_shrunken.stl is not watertight\n"
     ]
    },
    {
     "name": "stderr",
     "output_type": "stream",
     "text": [
      " 90%|████████▉ | 186/207 [04:10<00:30,  1.43s/it]"
     ]
    },
    {
     "name": "stdout",
     "output_type": "stream",
     "text": [
      "21536_Corn_salad_Valerianella_locusta_pollen_grain.stl is not watertight\n"
     ]
    },
    {
     "name": "stderr",
     "output_type": "stream",
     "text": [
      " 92%|█████████▏| 190/207 [04:15<00:28,  1.70s/it]"
     ]
    },
    {
     "name": "stdout",
     "output_type": "stream",
     "text": [
      "21542_European_blueberry_Vaccinium_myrtillus_pollen_grain.stl is not watertight\n"
     ]
    },
    {
     "name": "stderr",
     "output_type": "stream",
     "text": [
      " 92%|█████████▏| 191/207 [04:16<00:23,  1.45s/it]"
     ]
    },
    {
     "name": "stdout",
     "output_type": "stream",
     "text": [
      "21551_Clustered_dock_Rumex_conglomeratus_pollen_grain.stl is not watertight\n"
     ]
    },
    {
     "name": "stderr",
     "output_type": "stream",
     "text": [
      " 94%|█████████▎| 194/207 [04:18<00:12,  1.01it/s]"
     ]
    },
    {
     "name": "stdout",
     "output_type": "stream",
     "text": [
      "21554_Common_speedwell_Veronica_arvensis_pollen_grain.stl is not watertight\n"
     ]
    },
    {
     "name": "stderr",
     "output_type": "stream",
     "text": [
      " 94%|█████████▍| 195/207 [04:20<00:14,  1.24s/it]"
     ]
    },
    {
     "name": "stdout",
     "output_type": "stream",
     "text": [
      "21555_Hard_rush_Juncus_inflexus_pollen_grain_shrunken.stl is not watertight\n"
     ]
    },
    {
     "name": "stderr",
     "output_type": "stream",
     "text": [
      " 95%|█████████▍| 196/207 [04:21<00:13,  1.22s/it]"
     ]
    },
    {
     "name": "stdout",
     "output_type": "stream",
     "text": [
      "21557_Hairy_violet_Viola_hirta_pollen_grain.stl is not watertight\n"
     ]
    },
    {
     "name": "stderr",
     "output_type": "stream",
     "text": [
      " 95%|█████████▌| 197/207 [04:23<00:14,  1.45s/it]"
     ]
    },
    {
     "name": "stdout",
     "output_type": "stream",
     "text": [
      "21583_Ladys_thumb_Persicaria_maculosa_pollen_grain.stl is not watertight\n"
     ]
    },
    {
     "name": "stderr",
     "output_type": "stream",
     "text": [
      " 96%|█████████▌| 199/207 [04:24<00:08,  1.01s/it]"
     ]
    },
    {
     "name": "stdout",
     "output_type": "stream",
     "text": [
      "21585_Bird_cherry_Prunus_padus_pollen_grain.stl is not watertight\n"
     ]
    },
    {
     "name": "stderr",
     "output_type": "stream",
     "text": [
      " 97%|█████████▋| 201/207 [04:25<00:04,  1.33it/s]"
     ]
    },
    {
     "name": "stdout",
     "output_type": "stream",
     "text": [
      "21591_Parsnip_Pastinaca_sativa_pollen_grain.stl is not watertight\n",
      "21600_Common_haircap_Polytrichum_commune_spore.stl is not watertight\n"
     ]
    },
    {
     "name": "stderr",
     "output_type": "stream",
     "text": [
      " 98%|█████████▊| 203/207 [04:27<00:03,  1.20it/s]"
     ]
    },
    {
     "name": "stdout",
     "output_type": "stream",
     "text": [
      "21602_Common_fleabane_Pulicaria_dysenterica_pollen_grain.stl is not watertight\n"
     ]
    },
    {
     "name": "stderr",
     "output_type": "stream",
     "text": [
      " 99%|█████████▉| 205/207 [04:31<00:02,  1.30s/it]"
     ]
    },
    {
     "name": "stdout",
     "output_type": "stream",
     "text": [
      "21611_European_pear_Pyrus_communis_pollen_grain.stl is not watertight\n"
     ]
    },
    {
     "name": "stderr",
     "output_type": "stream",
     "text": [
      "100%|██████████| 207/207 [04:32<00:00,  1.31s/it]\n"
     ]
    }
   ],
   "source": [
    "non_watertight = []\n",
    "\n",
    "mesh_files = os.listdir(RAW_MESHES_PATH)[1:]\n",
    "for i in tqdm(range(len(mesh_files))):\n",
    "    mesh = trimesh.load(os.path.join(RAW_MESHES_PATH, mesh_files[i]))\n",
    "    if not mesh.is_watertight:\n",
    "        print(f\"{mesh_files[i]} is not watertight\")\n",
    "        non_watertight.append(mesh_files[i])"
   ]
  },
  {
   "cell_type": "code",
   "execution_count": 5,
   "metadata": {},
   "outputs": [
    {
     "data": {
      "text/plain": [
       "['17782_Golden-ray_lily_Lilium_auratum_pollen_grain.stl',\n",
       " '17786_Poppy_Papaver_sp_pollen_grain.stl',\n",
       " '17787_Yellow_iris_Iris_pseudacorus_pollen_grain.stl',\n",
       " '17791_Common_camellia_Camellia_japonica_pollen_grain.stl',\n",
       " '17795_Common_heather_Calluna_vulgaris_pollen_grain.stl',\n",
       " '17798_Tomato_Solanum_lycopersicum_pollen_grain.stl',\n",
       " '17801_Clematis_Clematis_sp_pollen_grain.stl',\n",
       " '17802_Common_whitebeam_Sorbus_aria_pollen_grain.stl',\n",
       " '17811_White_goosefoot_Chenopodium_album_pollen_grain.stl',\n",
       " '17812_Sweet_cherry_Prunus_avium_pollen_grain.stl',\n",
       " '17813_Rosemary_Rosmarinus_officinalis_pollen_grain.stl',\n",
       " '17814_Marigold_Calendula_officinalis_pollen_grain.stl',\n",
       " '17815_Scotch_broom_Cytisus_scoparius_pollen_grain.stl',\n",
       " '17816_White_clover_Trifolium_repens_pollen_grain.stl',\n",
       " '17818_Common_daisy_Bellis_perennis_pollen_grain.stl',\n",
       " '17819_Oil_seed_rape_Brassica_napus_pollen_grain.stl',\n",
       " '17821_Wild_garlic_Allium_ursinum_pollen_grain.stl',\n",
       " '17823_Common_bulrush_Typhya_latifolia_pollen_grain_isobilateral_tetrad.stl',\n",
       " '17824_Yellow_archangel_Lamium_galeobdolon_pollen_grain.stl',\n",
       " '17826_Blue_passion_flower_Passiflora_caerulea_pollen_grain.stl',\n",
       " '17827_Common_dandelion_Taraxacum_officinale_pollen_grain.stl',\n",
       " '17829_Rhododendron_Rhododendron_sp_pollen_grain.stl',\n",
       " '17830_Common_oak_Quercus_robur_pollen_grain.stl',\n",
       " '17831_Common_holly_Ilex_aquifolium_pollen_grain.stl',\n",
       " '17832_Common_ivy_Hedera_helix_pollen_grain.stl',\n",
       " '17833_European_white_water_lily_Nymphaea_alba_pollen_grain.stl',\n",
       " '17842_Common_hazel_Corylus_avellana_pollen_grain.stl',\n",
       " '17843_Shining_pondweed_Potamogeton_lucens_pollen_grain.stl',\n",
       " '17846_Common_fern_Polypodium_vulgare_spore.stl',\n",
       " '17878_Alder_Alnus_sp_pollen_grain_pentaporate.stl',\n",
       " '17880_Common_sunflower_Helianthus_annuus_pollen_grain.stl',\n",
       " '17881_Common_bluebell_Hyacinthoides_non-scripta_pollen_grain.stl',\n",
       " '17882_Lotus_Nelumbo_nucifera_pollen_grain.stl',\n",
       " '17883_Evening_primrose_Oenothera_fruticosa_pollen_grain.stl',\n",
       " '17884_Peace_lily_Spathiphyllum_cannifolium_pollen_grain.stl',\n",
       " '17886_Common_wheat_Triticum_aestivan_pollen_grain.stl',\n",
       " '17900_Germinating_lily_Lilium_sp_pollen_grain.stl',\n",
       " '20076_Common_bulrush_Typhya_latifolia_pollen_grain_T-shaped_tetrad.stl',\n",
       " '20098_Alder_Alnus_sp_pollen_grain_tetraporate.stl',\n",
       " '20099_Common_bulrush_Typhya_latifolia_pollen_grain_rhombohedral_tetrad.stl',\n",
       " '20471_Herb-Robert_Geranium_robertianum_pollen_grain.stl',\n",
       " '20606_Ground_elder_Aegopodium_podagraria_pollen_grain.stl',\n",
       " '20608_Thyme-leaf_sandwort_Arenaria_serpyllifolia_pollen_grain.stl',\n",
       " '20609_Common_wormwood_Artemisia_absinthium_pollen_grain.stl',\n",
       " '20610_Spear-leaved_orache_Atriplex_hastata_pollen_grain.stl',\n",
       " '20611_Cuckoo_flower_Cardamine_pratensis_pollen_grain.stl',\n",
       " '20621_Common_box_Buxus_sempervirens_pollen_grain.stl',\n",
       " '20701_Herb-Paris_Paris_quadrifolia_pollen_grain.stl',\n",
       " '20703_Common_lousewort_Pedicularis_sylvatica_pollen_grain_dehydrated.stl',\n",
       " '20859_European_larch_Larix_decidua_pollen_grain_shrunken_2.stl',\n",
       " '20935_Field_pennycress_Thlaspi_arvense_pollen_grain_1.stl',\n",
       " '20936_Field_pennycress_Thlaspi_arvense_pollen_grain_2.stl',\n",
       " '20937_Small-leaved_lime_Tilia_cordata_pollen_grain.stl',\n",
       " '20939_Western_hemlock_Tsuga_heterophylla_pollen_grain.stl',\n",
       " '21103_Round-headed_Rampion_Phyteuma_tenerum_pollen_grain.stl',\n",
       " '21106_Butterbur_Petasites_hybridus_pollen_grain.stl',\n",
       " '21111_Pellitory_of_the_wall_Parietaria_judaica_pollen_grain.stl',\n",
       " '21145_Pine_Pinus_sp_pollen_grain.stl',\n",
       " '21184_Black_bryony_Dioscorea_communis_pollen_grain.stl',\n",
       " '21186_Bastard-toadlax_Thesium_humifusum_pollen_grain.stl',\n",
       " '21188_Meadow_goats_beard_Tragopogon_pratensis_pollen_grain.stl',\n",
       " '21189_Deergrass_Trichophorum_cespitosum_pollen_grain.stl',\n",
       " '21190_Seaside_arrowgrass_Triglochin_maritima_pollen_grain.stl',\n",
       " '21252_Pontic_rhododendron_Rhododendron_ponticum_pollen_grain.stl',\n",
       " '21253_Tea-leaved_willow_Salix_phylicifolia_pollen_grain.stl',\n",
       " '21254_Black_sedge_Schoenus_nigricans_pollen_grain.stl',\n",
       " '21256_German_knotweed_Scleranthus_annuus_pollen_grain_shrunken.stl',\n",
       " '21264_European_goldenrod_Solidago_virgaurea_pollen_grain.stl',\n",
       " '21267_Rye_Secale_cereale_pollen_grain.stl',\n",
       " '21269_Common_sorrel_Rumex_acetosa_pollen_grain_shrunken.stl',\n",
       " '21271_White_campion_Silene_alba_pollen_grain_shrunken.stl',\n",
       " '21282_Wood_sanicle_Sanicula_europaea_pollen_grain.stl',\n",
       " '21375_Timothy_Phleum_pratense_pollen_grain_shrunken.stl',\n",
       " '21378_Hemp-agrimony_Eupatorium_cannabinum_pollen_grain_shrunken.stl',\n",
       " '21379_Hemp-agrimony_Eupatorium_cannabinum_pollen_grain_shrunken.stl',\n",
       " '21464_Sweet_vernal_grass_Anthoxanthum_odoratum_pollen_grain.stl',\n",
       " '21465_Soft_brome_Bromus_hordeaceus_pollen_grain.stl',\n",
       " '21469_Long_beech_fern_Phegopteris_connectilis_spore_1.stl',\n",
       " '21471_Autumn_hawkbit_Scorzoneroides_autumnalis_pollen_grain.stl',\n",
       " '21532_Blue_sedge_Carex_flacca_pollen_grain_shrunken.stl',\n",
       " '21536_Corn_salad_Valerianella_locusta_pollen_grain.stl',\n",
       " '21542_European_blueberry_Vaccinium_myrtillus_pollen_grain.stl',\n",
       " '21551_Clustered_dock_Rumex_conglomeratus_pollen_grain.stl',\n",
       " '21554_Common_speedwell_Veronica_arvensis_pollen_grain.stl',\n",
       " '21555_Hard_rush_Juncus_inflexus_pollen_grain_shrunken.stl',\n",
       " '21557_Hairy_violet_Viola_hirta_pollen_grain.stl',\n",
       " '21583_Ladys_thumb_Persicaria_maculosa_pollen_grain.stl',\n",
       " '21585_Bird_cherry_Prunus_padus_pollen_grain.stl',\n",
       " '21591_Parsnip_Pastinaca_sativa_pollen_grain.stl',\n",
       " '21600_Common_haircap_Polytrichum_commune_spore.stl',\n",
       " '21602_Common_fleabane_Pulicaria_dysenterica_pollen_grain.stl',\n",
       " '21611_European_pear_Pyrus_communis_pollen_grain.stl']"
      ]
     },
     "execution_count": 5,
     "metadata": {},
     "output_type": "execute_result"
    }
   ],
   "source": [
    "non_watertight"
   ]
  },
  {
   "cell_type": "code",
   "execution_count": 6,
   "metadata": {},
   "outputs": [],
   "source": [
    "some_mesh = \"21611_European_pear_Pyrus_communis_pollen_grain.stl\""
   ]
  },
  {
   "cell_type": "code",
   "execution_count": 7,
   "metadata": {},
   "outputs": [],
   "source": [
    "out_path = './out'\n",
    "\n",
    "# ensure the output directory exists\n",
    "if not os.path.exists(out_path):\n",
    "    os.makedirs(out_path)"
   ]
  },
  {
   "cell_type": "code",
   "execution_count": 8,
   "metadata": {},
   "outputs": [],
   "source": [
    "import pymeshlab\n",
    "\n",
    "def process_mesh(mesh_filename, output_path):\n",
    "    mesh = trimesh.load_mesh(os.path.join(RAW_MESHES_PATH, mesh_filename))\n",
    "\n",
    "    # print if the mesh is watertight or not\n",
    "    print(f\"Is the mesh watertight? {mesh.is_watertight}\")\n",
    "\n",
    "    # Calculate the center of the mesh\n",
    "    center = mesh.centroid\n",
    "\n",
    "    # Compute face centers and normals\n",
    "    face_centers = mesh.triangles_center\n",
    "    face_normals = mesh.face_normals\n",
    "\n",
    "    # Vector from face centers to object center\n",
    "    vectors_to_center = center - face_centers\n",
    "\n",
    "    # Normalize the vectors\n",
    "    vectors_to_center /= np.linalg.norm(vectors_to_center, axis=1)[:, np.newaxis]\n",
    "\n",
    "    # Dot product between face normals and vectors to center\n",
    "    dot_products = np.einsum(\"ij,ij->i\", face_normals, vectors_to_center)\n",
    "\n",
    "    # Keep faces with normals NOT pointing towards the center (dot product < 0 means facing away)\n",
    "    keep_faces = dot_products < 0.1\n",
    "\n",
    "    filtered_mesh = mesh.submesh([keep_faces], append=True)\n",
    "\n",
    "    # Fill holes\n",
    "    filled_mesh = filtered_mesh.copy()\n",
    "    filled_mesh.fill_holes()\n",
    "\n",
    "    # Export or visualize the result\n",
    "    filled_mesh.export(os.path.join(output_path, mesh_filename))\n",
    "    \n",
    "    ms = pymeshlab.MeshSet()\n",
    "\n",
    "    ms.load_new_mesh(os.path.join(output_path, mesh_filename))\n",
    "\n",
    "    ms.meshing_repair_non_manifold_edges(method='Remove Faces')\n",
    "\n",
    "    ms.generate_surface_reconstruction_screened_poisson(preclean=True)\n",
    "\n",
    "    ms.save_current_mesh(os.path.join(output_path, mesh_filename))\n",
    "        "
   ]
  },
  {
   "cell_type": "code",
   "execution_count": 9,
   "metadata": {},
   "outputs": [
    {
     "name": "stderr",
     "output_type": "stream",
     "text": [
      "  0%|          | 0/92 [00:00<?, ?it/s]"
     ]
    },
    {
     "name": "stdout",
     "output_type": "stream",
     "text": [
      "Is the mesh watertight? False\n"
     ]
    },
    {
     "name": "stderr",
     "output_type": "stream",
     "text": [
      "  1%|          | 1/92 [00:07<10:45,  7.09s/it]"
     ]
    },
    {
     "name": "stdout",
     "output_type": "stream",
     "text": [
      "Is the mesh watertight? False\n"
     ]
    },
    {
     "name": "stderr",
     "output_type": "stream",
     "text": [
      "  2%|▏         | 2/92 [00:12<09:01,  6.01s/it]"
     ]
    },
    {
     "name": "stdout",
     "output_type": "stream",
     "text": [
      "Is the mesh watertight? False\n"
     ]
    },
    {
     "name": "stderr",
     "output_type": "stream",
     "text": [
      "  3%|▎         | 3/92 [00:17<08:02,  5.42s/it]"
     ]
    },
    {
     "name": "stdout",
     "output_type": "stream",
     "text": [
      "Is the mesh watertight? False\n"
     ]
    },
    {
     "name": "stderr",
     "output_type": "stream",
     "text": [
      "  4%|▍         | 4/92 [00:21<07:18,  4.98s/it]"
     ]
    },
    {
     "name": "stdout",
     "output_type": "stream",
     "text": [
      "Is the mesh watertight? False\n"
     ]
    },
    {
     "name": "stderr",
     "output_type": "stream",
     "text": [
      "  5%|▌         | 5/92 [00:26<07:12,  4.97s/it]"
     ]
    },
    {
     "name": "stdout",
     "output_type": "stream",
     "text": [
      "Is the mesh watertight? False\n"
     ]
    },
    {
     "name": "stderr",
     "output_type": "stream",
     "text": [
      "  7%|▋         | 6/92 [00:36<09:28,  6.61s/it]"
     ]
    },
    {
     "name": "stdout",
     "output_type": "stream",
     "text": [
      "Is the mesh watertight? False\n"
     ]
    },
    {
     "name": "stderr",
     "output_type": "stream",
     "text": [
      "  8%|▊         | 7/92 [00:46<11:11,  7.90s/it]"
     ]
    },
    {
     "name": "stdout",
     "output_type": "stream",
     "text": [
      "Is the mesh watertight? False\n"
     ]
    },
    {
     "name": "stderr",
     "output_type": "stream",
     "text": [
      "  9%|▊         | 8/92 [00:53<10:27,  7.47s/it]"
     ]
    },
    {
     "name": "stdout",
     "output_type": "stream",
     "text": [
      "Is the mesh watertight? False\n"
     ]
    },
    {
     "name": "stderr",
     "output_type": "stream",
     "text": [
      " 10%|▉         | 9/92 [01:03<11:27,  8.29s/it]"
     ]
    },
    {
     "name": "stdout",
     "output_type": "stream",
     "text": [
      "Is the mesh watertight? False\n"
     ]
    },
    {
     "name": "stderr",
     "output_type": "stream",
     "text": [
      " 11%|█         | 10/92 [01:11<11:15,  8.24s/it]"
     ]
    },
    {
     "name": "stdout",
     "output_type": "stream",
     "text": [
      "Is the mesh watertight? False\n"
     ]
    },
    {
     "name": "stderr",
     "output_type": "stream",
     "text": [
      " 12%|█▏        | 11/92 [01:18<10:45,  7.96s/it]"
     ]
    },
    {
     "name": "stdout",
     "output_type": "stream",
     "text": [
      "Is the mesh watertight? False\n"
     ]
    },
    {
     "name": "stderr",
     "output_type": "stream",
     "text": [
      " 13%|█▎        | 12/92 [01:30<12:17,  9.22s/it]"
     ]
    },
    {
     "name": "stdout",
     "output_type": "stream",
     "text": [
      "Is the mesh watertight? False\n"
     ]
    },
    {
     "name": "stderr",
     "output_type": "stream",
     "text": [
      " 14%|█▍        | 13/92 [01:42<13:01,  9.90s/it]"
     ]
    },
    {
     "name": "stdout",
     "output_type": "stream",
     "text": [
      "Is the mesh watertight? False\n"
     ]
    },
    {
     "name": "stderr",
     "output_type": "stream",
     "text": [
      " 15%|█▌        | 14/92 [01:54<13:45, 10.59s/it]"
     ]
    },
    {
     "name": "stdout",
     "output_type": "stream",
     "text": [
      "Is the mesh watertight? False\n"
     ]
    },
    {
     "name": "stderr",
     "output_type": "stream",
     "text": [
      " 16%|█▋        | 15/92 [02:05<13:53, 10.82s/it]"
     ]
    },
    {
     "name": "stdout",
     "output_type": "stream",
     "text": [
      "Is the mesh watertight? False\n"
     ]
    },
    {
     "name": "stderr",
     "output_type": "stream",
     "text": [
      " 17%|█▋        | 16/92 [02:15<13:10, 10.41s/it]"
     ]
    },
    {
     "name": "stdout",
     "output_type": "stream",
     "text": [
      "Is the mesh watertight? False\n"
     ]
    },
    {
     "name": "stderr",
     "output_type": "stream",
     "text": [
      " 18%|█▊        | 17/92 [02:25<13:02, 10.43s/it]"
     ]
    },
    {
     "name": "stdout",
     "output_type": "stream",
     "text": [
      "Is the mesh watertight? False\n"
     ]
    },
    {
     "name": "stderr",
     "output_type": "stream",
     "text": [
      " 20%|█▉        | 18/92 [02:40<14:17, 11.59s/it]"
     ]
    },
    {
     "name": "stdout",
     "output_type": "stream",
     "text": [
      "Is the mesh watertight? False\n"
     ]
    },
    {
     "name": "stderr",
     "output_type": "stream",
     "text": [
      " 21%|██        | 19/92 [02:52<14:20, 11.79s/it]"
     ]
    },
    {
     "name": "stdout",
     "output_type": "stream",
     "text": [
      "Is the mesh watertight? False\n"
     ]
    },
    {
     "name": "stderr",
     "output_type": "stream",
     "text": [
      " 22%|██▏       | 20/92 [03:19<19:38, 16.37s/it]"
     ]
    },
    {
     "name": "stdout",
     "output_type": "stream",
     "text": [
      "Is the mesh watertight? False\n"
     ]
    },
    {
     "name": "stderr",
     "output_type": "stream",
     "text": [
      " 23%|██▎       | 21/92 [03:32<18:06, 15.30s/it]"
     ]
    },
    {
     "name": "stdout",
     "output_type": "stream",
     "text": [
      "Is the mesh watertight? False\n"
     ]
    },
    {
     "name": "stderr",
     "output_type": "stream",
     "text": [
      " 24%|██▍       | 22/92 [03:43<16:30, 14.16s/it]"
     ]
    },
    {
     "name": "stdout",
     "output_type": "stream",
     "text": [
      "Is the mesh watertight? False\n"
     ]
    },
    {
     "name": "stderr",
     "output_type": "stream",
     "text": [
      " 25%|██▌       | 23/92 [03:57<16:09, 14.05s/it]"
     ]
    },
    {
     "name": "stdout",
     "output_type": "stream",
     "text": [
      "Is the mesh watertight? False\n"
     ]
    },
    {
     "name": "stderr",
     "output_type": "stream",
     "text": [
      " 26%|██▌       | 24/92 [04:12<16:06, 14.22s/it]"
     ]
    },
    {
     "name": "stdout",
     "output_type": "stream",
     "text": [
      "Is the mesh watertight? False\n"
     ]
    },
    {
     "name": "stderr",
     "output_type": "stream",
     "text": [
      " 27%|██▋       | 25/92 [04:26<15:48, 14.16s/it]"
     ]
    },
    {
     "name": "stdout",
     "output_type": "stream",
     "text": [
      "Is the mesh watertight? False\n"
     ]
    },
    {
     "name": "stderr",
     "output_type": "stream",
     "text": [
      " 28%|██▊       | 26/92 [04:41<15:55, 14.47s/it]"
     ]
    },
    {
     "name": "stdout",
     "output_type": "stream",
     "text": [
      "Is the mesh watertight? False\n"
     ]
    },
    {
     "name": "stderr",
     "output_type": "stream",
     "text": [
      " 29%|██▉       | 27/92 [04:56<15:51, 14.64s/it]"
     ]
    },
    {
     "name": "stdout",
     "output_type": "stream",
     "text": [
      "Is the mesh watertight? False\n"
     ]
    },
    {
     "name": "stderr",
     "output_type": "stream",
     "text": [
      " 30%|███       | 28/92 [05:06<14:18, 13.41s/it]"
     ]
    },
    {
     "name": "stdout",
     "output_type": "stream",
     "text": [
      "Is the mesh watertight? False\n"
     ]
    },
    {
     "name": "stderr",
     "output_type": "stream",
     "text": [
      " 32%|███▏      | 29/92 [05:27<16:15, 15.48s/it]"
     ]
    },
    {
     "name": "stdout",
     "output_type": "stream",
     "text": [
      "Is the mesh watertight? False\n"
     ]
    },
    {
     "name": "stderr",
     "output_type": "stream",
     "text": [
      " 33%|███▎      | 30/92 [05:34<13:18, 12.88s/it]"
     ]
    },
    {
     "name": "stdout",
     "output_type": "stream",
     "text": [
      "Is the mesh watertight? False\n"
     ]
    },
    {
     "name": "stderr",
     "output_type": "stream",
     "text": [
      " 34%|███▎      | 31/92 [05:45<12:32, 12.34s/it]"
     ]
    },
    {
     "name": "stdout",
     "output_type": "stream",
     "text": [
      "Is the mesh watertight? False\n"
     ]
    },
    {
     "name": "stderr",
     "output_type": "stream",
     "text": [
      " 35%|███▍      | 32/92 [05:54<11:32, 11.55s/it]"
     ]
    },
    {
     "name": "stdout",
     "output_type": "stream",
     "text": [
      "Is the mesh watertight? False\n"
     ]
    },
    {
     "name": "stderr",
     "output_type": "stream",
     "text": [
      " 36%|███▌      | 33/92 [06:06<11:22, 11.56s/it]"
     ]
    },
    {
     "name": "stdout",
     "output_type": "stream",
     "text": [
      "Is the mesh watertight? False\n"
     ]
    },
    {
     "name": "stderr",
     "output_type": "stream",
     "text": [
      " 37%|███▋      | 34/92 [06:21<12:04, 12.50s/it]"
     ]
    },
    {
     "name": "stdout",
     "output_type": "stream",
     "text": [
      "Is the mesh watertight? False\n"
     ]
    },
    {
     "name": "stderr",
     "output_type": "stream",
     "text": [
      " 38%|███▊      | 35/92 [06:31<11:21, 11.96s/it]"
     ]
    },
    {
     "name": "stdout",
     "output_type": "stream",
     "text": [
      "Is the mesh watertight? False\n"
     ]
    },
    {
     "name": "stderr",
     "output_type": "stream",
     "text": [
      " 39%|███▉      | 36/92 [06:50<13:01, 13.96s/it]"
     ]
    },
    {
     "name": "stdout",
     "output_type": "stream",
     "text": [
      "Is the mesh watertight? False\n"
     ]
    },
    {
     "name": "stderr",
     "output_type": "stream",
     "text": [
      " 40%|████      | 37/92 [07:29<19:39, 21.44s/it]"
     ]
    },
    {
     "name": "stdout",
     "output_type": "stream",
     "text": [
      "Is the mesh watertight? False\n"
     ]
    },
    {
     "name": "stderr",
     "output_type": "stream",
     "text": [
      " 41%|████▏     | 38/92 [07:39<16:21, 18.18s/it]"
     ]
    },
    {
     "name": "stdout",
     "output_type": "stream",
     "text": [
      "Is the mesh watertight? False\n"
     ]
    },
    {
     "name": "stderr",
     "output_type": "stream",
     "text": [
      " 42%|████▏     | 39/92 [07:45<12:43, 14.41s/it]"
     ]
    },
    {
     "name": "stdout",
     "output_type": "stream",
     "text": [
      "Is the mesh watertight? False\n"
     ]
    },
    {
     "name": "stderr",
     "output_type": "stream",
     "text": [
      " 43%|████▎     | 40/92 [07:57<11:50, 13.66s/it]"
     ]
    },
    {
     "name": "stdout",
     "output_type": "stream",
     "text": [
      "Is the mesh watertight? False\n"
     ]
    },
    {
     "name": "stderr",
     "output_type": "stream",
     "text": [
      " 45%|████▍     | 41/92 [08:18<13:33, 15.96s/it]"
     ]
    },
    {
     "name": "stdout",
     "output_type": "stream",
     "text": [
      "Is the mesh watertight? False\n"
     ]
    },
    {
     "name": "stderr",
     "output_type": "stream",
     "text": [
      " 46%|████▌     | 42/92 [08:26<11:20, 13.61s/it]"
     ]
    },
    {
     "name": "stdout",
     "output_type": "stream",
     "text": [
      "Is the mesh watertight? False\n"
     ]
    },
    {
     "name": "stderr",
     "output_type": "stream",
     "text": [
      " 47%|████▋     | 43/92 [08:36<10:12, 12.51s/it]"
     ]
    },
    {
     "name": "stdout",
     "output_type": "stream",
     "text": [
      "Is the mesh watertight? False\n"
     ]
    },
    {
     "name": "stderr",
     "output_type": "stream",
     "text": [
      " 48%|████▊     | 44/92 [08:46<09:13, 11.53s/it]"
     ]
    },
    {
     "name": "stdout",
     "output_type": "stream",
     "text": [
      "Is the mesh watertight? False\n"
     ]
    },
    {
     "name": "stderr",
     "output_type": "stream",
     "text": [
      " 49%|████▉     | 45/92 [08:56<08:48, 11.24s/it]"
     ]
    },
    {
     "name": "stdout",
     "output_type": "stream",
     "text": [
      "Is the mesh watertight? False\n"
     ]
    },
    {
     "name": "stderr",
     "output_type": "stream",
     "text": [
      " 50%|█████     | 46/92 [09:15<10:26, 13.62s/it]"
     ]
    },
    {
     "name": "stdout",
     "output_type": "stream",
     "text": [
      "Is the mesh watertight? False\n"
     ]
    },
    {
     "name": "stderr",
     "output_type": "stream",
     "text": [
      " 51%|█████     | 47/92 [09:27<09:44, 12.99s/it]"
     ]
    },
    {
     "name": "stdout",
     "output_type": "stream",
     "text": [
      "Is the mesh watertight? False\n"
     ]
    },
    {
     "name": "stderr",
     "output_type": "stream",
     "text": [
      " 52%|█████▏    | 48/92 [09:34<08:13, 11.22s/it]"
     ]
    },
    {
     "name": "stdout",
     "output_type": "stream",
     "text": [
      "Is the mesh watertight? False\n"
     ]
    },
    {
     "name": "stderr",
     "output_type": "stream",
     "text": [
      " 53%|█████▎    | 49/92 [09:40<07:00,  9.78s/it]"
     ]
    },
    {
     "name": "stdout",
     "output_type": "stream",
     "text": [
      "Is the mesh watertight? False\n"
     ]
    },
    {
     "name": "stderr",
     "output_type": "stream",
     "text": [
      " 54%|█████▍    | 50/92 [09:46<05:54,  8.43s/it]"
     ]
    },
    {
     "name": "stdout",
     "output_type": "stream",
     "text": [
      "Is the mesh watertight? False\n"
     ]
    },
    {
     "name": "stderr",
     "output_type": "stream",
     "text": [
      " 55%|█████▌    | 51/92 [09:53<05:28,  8.02s/it]"
     ]
    },
    {
     "name": "stdout",
     "output_type": "stream",
     "text": [
      "Is the mesh watertight? False\n"
     ]
    },
    {
     "name": "stderr",
     "output_type": "stream",
     "text": [
      " 57%|█████▋    | 52/92 [09:59<05:04,  7.61s/it]"
     ]
    },
    {
     "name": "stdout",
     "output_type": "stream",
     "text": [
      "Is the mesh watertight? False\n"
     ]
    },
    {
     "name": "stderr",
     "output_type": "stream",
     "text": [
      " 58%|█████▊    | 53/92 [10:10<05:28,  8.44s/it]"
     ]
    },
    {
     "name": "stdout",
     "output_type": "stream",
     "text": [
      "Is the mesh watertight? False\n"
     ]
    },
    {
     "name": "stderr",
     "output_type": "stream",
     "text": [
      " 59%|█████▊    | 54/92 [10:26<06:53, 10.87s/it]"
     ]
    },
    {
     "name": "stdout",
     "output_type": "stream",
     "text": [
      "Is the mesh watertight? False\n"
     ]
    },
    {
     "name": "stderr",
     "output_type": "stream",
     "text": [
      " 60%|█████▉    | 55/92 [10:34<06:06,  9.91s/it]"
     ]
    },
    {
     "name": "stdout",
     "output_type": "stream",
     "text": [
      "Is the mesh watertight? False\n"
     ]
    },
    {
     "name": "stderr",
     "output_type": "stream",
     "text": [
      " 61%|██████    | 56/92 [10:42<05:35,  9.31s/it]"
     ]
    },
    {
     "name": "stdout",
     "output_type": "stream",
     "text": [
      "Is the mesh watertight? False\n"
     ]
    },
    {
     "name": "stderr",
     "output_type": "stream",
     "text": [
      " 62%|██████▏   | 57/92 [10:48<04:54,  8.40s/it]"
     ]
    },
    {
     "name": "stdout",
     "output_type": "stream",
     "text": [
      "Is the mesh watertight? False\n"
     ]
    },
    {
     "name": "stderr",
     "output_type": "stream",
     "text": [
      " 63%|██████▎   | 58/92 [11:00<05:25,  9.58s/it]"
     ]
    },
    {
     "name": "stdout",
     "output_type": "stream",
     "text": [
      "Is the mesh watertight? False\n"
     ]
    },
    {
     "name": "stderr",
     "output_type": "stream",
     "text": [
      " 64%|██████▍   | 59/92 [11:09<05:02,  9.17s/it]"
     ]
    },
    {
     "name": "stdout",
     "output_type": "stream",
     "text": [
      "Is the mesh watertight? False\n"
     ]
    },
    {
     "name": "stderr",
     "output_type": "stream",
     "text": [
      " 65%|██████▌   | 60/92 [11:16<04:36,  8.64s/it]"
     ]
    },
    {
     "name": "stdout",
     "output_type": "stream",
     "text": [
      "Is the mesh watertight? False\n"
     ]
    },
    {
     "name": "stderr",
     "output_type": "stream",
     "text": [
      " 66%|██████▋   | 61/92 [11:28<05:03,  9.78s/it]"
     ]
    },
    {
     "name": "stdout",
     "output_type": "stream",
     "text": [
      "Is the mesh watertight? False\n"
     ]
    },
    {
     "name": "stderr",
     "output_type": "stream",
     "text": [
      " 67%|██████▋   | 62/92 [11:40<05:06, 10.22s/it]"
     ]
    },
    {
     "name": "stdout",
     "output_type": "stream",
     "text": [
      "Is the mesh watertight? False\n"
     ]
    },
    {
     "name": "stderr",
     "output_type": "stream",
     "text": [
      " 68%|██████▊   | 63/92 [11:50<04:59, 10.32s/it]"
     ]
    },
    {
     "name": "stdout",
     "output_type": "stream",
     "text": [
      "Is the mesh watertight? False\n"
     ]
    },
    {
     "name": "stderr",
     "output_type": "stream",
     "text": [
      " 70%|██████▉   | 64/92 [12:07<05:41, 12.20s/it]"
     ]
    },
    {
     "name": "stdout",
     "output_type": "stream",
     "text": [
      "Is the mesh watertight? False\n"
     ]
    },
    {
     "name": "stderr",
     "output_type": "stream",
     "text": [
      " 71%|███████   | 65/92 [12:16<05:06, 11.34s/it]"
     ]
    },
    {
     "name": "stdout",
     "output_type": "stream",
     "text": [
      "Is the mesh watertight? False\n"
     ]
    },
    {
     "name": "stderr",
     "output_type": "stream",
     "text": [
      " 72%|███████▏  | 66/92 [12:27<04:46, 11.04s/it]"
     ]
    },
    {
     "name": "stdout",
     "output_type": "stream",
     "text": [
      "Is the mesh watertight? False\n"
     ]
    },
    {
     "name": "stderr",
     "output_type": "stream",
     "text": [
      " 73%|███████▎  | 67/92 [12:41<05:01, 12.06s/it]"
     ]
    },
    {
     "name": "stdout",
     "output_type": "stream",
     "text": [
      "Is the mesh watertight? False\n"
     ]
    },
    {
     "name": "stderr",
     "output_type": "stream",
     "text": [
      " 74%|███████▍  | 68/92 [12:49<04:23, 10.96s/it]"
     ]
    },
    {
     "name": "stdout",
     "output_type": "stream",
     "text": [
      "Is the mesh watertight? False\n"
     ]
    },
    {
     "name": "stderr",
     "output_type": "stream",
     "text": [
      " 75%|███████▌  | 69/92 [13:03<04:31, 11.78s/it]"
     ]
    },
    {
     "name": "stdout",
     "output_type": "stream",
     "text": [
      "Is the mesh watertight? False\n"
     ]
    },
    {
     "name": "stderr",
     "output_type": "stream",
     "text": [
      " 76%|███████▌  | 70/92 [13:10<03:48, 10.40s/it]"
     ]
    },
    {
     "name": "stdout",
     "output_type": "stream",
     "text": [
      "Is the mesh watertight? False\n"
     ]
    },
    {
     "name": "stderr",
     "output_type": "stream",
     "text": [
      " 77%|███████▋  | 71/92 [13:22<03:47, 10.86s/it]"
     ]
    },
    {
     "name": "stdout",
     "output_type": "stream",
     "text": [
      "Is the mesh watertight? False\n"
     ]
    },
    {
     "name": "stderr",
     "output_type": "stream",
     "text": [
      " 78%|███████▊  | 72/92 [13:31<03:23, 10.18s/it]"
     ]
    },
    {
     "name": "stdout",
     "output_type": "stream",
     "text": [
      "Is the mesh watertight? False\n"
     ]
    },
    {
     "name": "stderr",
     "output_type": "stream",
     "text": [
      " 79%|███████▉  | 73/92 [13:39<03:03,  9.64s/it]"
     ]
    },
    {
     "name": "stdout",
     "output_type": "stream",
     "text": [
      "Is the mesh watertight? False\n"
     ]
    },
    {
     "name": "stderr",
     "output_type": "stream",
     "text": [
      " 80%|████████  | 74/92 [13:48<02:49,  9.43s/it]"
     ]
    },
    {
     "name": "stdout",
     "output_type": "stream",
     "text": [
      "Is the mesh watertight? False\n"
     ]
    },
    {
     "name": "stderr",
     "output_type": "stream",
     "text": [
      " 82%|████████▏ | 75/92 [13:58<02:41,  9.51s/it]"
     ]
    },
    {
     "name": "stdout",
     "output_type": "stream",
     "text": [
      "Is the mesh watertight? False\n"
     ]
    },
    {
     "name": "stderr",
     "output_type": "stream",
     "text": [
      " 83%|████████▎ | 76/92 [14:05<02:18,  8.67s/it]"
     ]
    },
    {
     "name": "stdout",
     "output_type": "stream",
     "text": [
      "Is the mesh watertight? False\n"
     ]
    },
    {
     "name": "stderr",
     "output_type": "stream",
     "text": [
      " 84%|████████▎ | 77/92 [14:20<02:40, 10.69s/it]"
     ]
    },
    {
     "name": "stdout",
     "output_type": "stream",
     "text": [
      "Is the mesh watertight? False\n"
     ]
    },
    {
     "name": "stderr",
     "output_type": "stream",
     "text": [
      " 85%|████████▍ | 78/92 [14:28<02:17,  9.85s/it]"
     ]
    },
    {
     "name": "stdout",
     "output_type": "stream",
     "text": [
      "Is the mesh watertight? False\n"
     ]
    },
    {
     "name": "stderr",
     "output_type": "stream",
     "text": [
      " 86%|████████▌ | 79/92 [14:40<02:16, 10.47s/it]"
     ]
    },
    {
     "name": "stdout",
     "output_type": "stream",
     "text": [
      "Is the mesh watertight? False\n"
     ]
    },
    {
     "name": "stderr",
     "output_type": "stream",
     "text": [
      " 87%|████████▋ | 80/92 [14:54<02:19, 11.61s/it]"
     ]
    },
    {
     "name": "stdout",
     "output_type": "stream",
     "text": [
      "Is the mesh watertight? False\n"
     ]
    },
    {
     "name": "stderr",
     "output_type": "stream",
     "text": [
      " 88%|████████▊ | 81/92 [15:08<02:16, 12.39s/it]"
     ]
    },
    {
     "name": "stdout",
     "output_type": "stream",
     "text": [
      "Is the mesh watertight? False\n"
     ]
    },
    {
     "name": "stderr",
     "output_type": "stream",
     "text": [
      " 89%|████████▉ | 82/92 [15:28<02:26, 14.65s/it]"
     ]
    },
    {
     "name": "stdout",
     "output_type": "stream",
     "text": [
      "Is the mesh watertight? False\n"
     ]
    },
    {
     "name": "stderr",
     "output_type": "stream",
     "text": [
      " 90%|█████████ | 83/92 [15:35<01:51, 12.34s/it]"
     ]
    },
    {
     "name": "stdout",
     "output_type": "stream",
     "text": [
      "Is the mesh watertight? False\n"
     ]
    },
    {
     "name": "stderr",
     "output_type": "stream",
     "text": [
      " 91%|█████████▏| 84/92 [15:43<01:27, 10.97s/it]"
     ]
    },
    {
     "name": "stdout",
     "output_type": "stream",
     "text": [
      "Is the mesh watertight? False\n"
     ]
    },
    {
     "name": "stderr",
     "output_type": "stream",
     "text": [
      " 92%|█████████▏| 85/92 [15:54<01:16, 10.93s/it]"
     ]
    },
    {
     "name": "stdout",
     "output_type": "stream",
     "text": [
      "Is the mesh watertight? False\n"
     ]
    },
    {
     "name": "stderr",
     "output_type": "stream",
     "text": [
      " 93%|█████████▎| 86/92 [16:02<01:01, 10.22s/it]"
     ]
    },
    {
     "name": "stdout",
     "output_type": "stream",
     "text": [
      "Is the mesh watertight? False\n"
     ]
    },
    {
     "name": "stderr",
     "output_type": "stream",
     "text": [
      " 95%|█████████▍| 87/92 [16:16<00:55, 11.18s/it]"
     ]
    },
    {
     "name": "stdout",
     "output_type": "stream",
     "text": [
      "Is the mesh watertight? False\n"
     ]
    },
    {
     "name": "stderr",
     "output_type": "stream",
     "text": [
      " 96%|█████████▌| 88/92 [16:21<00:37,  9.48s/it]"
     ]
    },
    {
     "name": "stdout",
     "output_type": "stream",
     "text": [
      "Is the mesh watertight? False\n"
     ]
    },
    {
     "name": "stderr",
     "output_type": "stream",
     "text": [
      " 97%|█████████▋| 89/92 [16:27<00:25,  8.46s/it]"
     ]
    },
    {
     "name": "stdout",
     "output_type": "stream",
     "text": [
      "Is the mesh watertight? False\n"
     ]
    },
    {
     "name": "stderr",
     "output_type": "stream",
     "text": [
      " 98%|█████████▊| 90/92 [16:29<00:12,  6.50s/it]"
     ]
    },
    {
     "name": "stdout",
     "output_type": "stream",
     "text": [
      "Is the mesh watertight? False\n"
     ]
    },
    {
     "name": "stderr",
     "output_type": "stream",
     "text": [
      " 99%|█████████▉| 91/92 [16:36<00:06,  6.52s/it]"
     ]
    },
    {
     "name": "stdout",
     "output_type": "stream",
     "text": [
      "Is the mesh watertight? False\n"
     ]
    },
    {
     "name": "stderr",
     "output_type": "stream",
     "text": [
      "100%|██████████| 92/92 [16:48<00:00, 10.96s/it]\n"
     ]
    },
    {
     "ename": "",
     "evalue": "",
     "output_type": "error",
     "traceback": [
      "\u001b[1;31mThe Kernel crashed while executing code in the current cell or a previous cell. \n",
      "\u001b[1;31mPlease review the code in the cell(s) to identify a possible cause of the failure. \n",
      "\u001b[1;31mClick <a href='https://aka.ms/vscodeJupyterKernelCrash'>here</a> for more info. \n",
      "\u001b[1;31mView Jupyter <a href='command:jupyter.viewOutput'>log</a> for further details."
     ]
    }
   ],
   "source": [
    "for i in tqdm(range(len(non_watertight))):\n",
    "    process_mesh(non_watertight[i], out_path)"
   ]
  }
 ],
 "metadata": {
  "kernelspec": {
   "display_name": ".venv",
   "language": "python",
   "name": "python3"
  },
  "language_info": {
   "codemirror_mode": {
    "name": "ipython",
    "version": 3
   },
   "file_extension": ".py",
   "mimetype": "text/x-python",
   "name": "python",
   "nbconvert_exporter": "python",
   "pygments_lexer": "ipython3",
   "version": "3.11.5"
  }
 },
 "nbformat": 4,
 "nbformat_minor": 2
}
