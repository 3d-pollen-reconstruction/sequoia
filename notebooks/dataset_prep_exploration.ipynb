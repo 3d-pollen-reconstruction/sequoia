{
 "cells": [
  {
   "cell_type": "code",
   "execution_count": 1,
   "id": "a579d73b",
   "metadata": {
    "title": "[code]"
   },
   "outputs": [],
   "source": [
    "import os\n",
    "import sys\n",
    "import random\n",
    "import numpy as np\n",
    "import matplotlib.pyplot as plt\n",
    "import cv2\n",
    "from PIL import Image\n",
    "from dotenv import load_dotenv\n",
    "\n",
    "load_dotenv()\n",
    "\n",
    "sys.path.append(\"..\")\n",
    "from data import PollenDataset\n",
    "from data import MeshAnalyzer\n",
    "from data import MeshCleaner\n",
    "from data import MeshExplorer"
   ]
  },
  {
   "cell_type": "markdown",
   "id": "0940726e",
   "metadata": {},
   "source": [
    "## Meshexploration"
   ]
  },
  {
   "cell_type": "code",
   "execution_count": null,
   "id": "45f36f30",
   "metadata": {},
   "outputs": [
    {
     "name": "stdout",
     "output_type": "stream",
     "text": [
      "Running exploratory analysis of 3D models...\n"
     ]
    },
    {
     "name": "stderr",
     "output_type": "stream",
     "text": [
      "Analyzing models:  23%|██▎       | 47/208 [00:47<06:20,  2.36s/it]"
     ]
    }
   ],
   "source": [
    "analyzer = MeshAnalyzer()\n",
    "df_results = analyzer.run_exploration()"
   ]
  },
  {
   "cell_type": "code",
   "execution_count": null,
   "id": "84340108",
   "metadata": {},
   "outputs": [
    {
     "name": "stdout",
     "output_type": "stream",
     "text": [
      "Running advanced 3D model analysis...\n"
     ]
    },
    {
     "name": "stderr",
     "output_type": "stream",
     "text": [
      "Analyzing 3D models: 100%|██████████| 208/208 [04:44<00:00,  1.37s/it]\n"
     ]
    },
    {
     "name": "stdout",
     "output_type": "stream",
     "text": [
      "Advanced analysis completed.\n"
     ]
    },
    {
     "data": {
      "application/vnd.microsoft.datawrangler.viewer.v0+json": {
       "columns": [
        {
         "name": "index",
         "rawType": "int64",
         "type": "integer"
        },
        {
         "name": "file_name",
         "rawType": "object",
         "type": "string"
        },
        {
         "name": "bounding_box_volume",
         "rawType": "float64",
         "type": "float"
        },
        {
         "name": "aspect_ratio",
         "rawType": "float64",
         "type": "float"
        },
        {
         "name": "convex_hull_volume",
         "rawType": "float64",
         "type": "float"
        },
        {
         "name": "sphericity",
         "rawType": "float64",
         "type": "float"
        },
        {
         "name": "symmetry_deviation",
         "rawType": "float64",
         "type": "float"
        },
        {
         "name": "pca_1",
         "rawType": "float64",
         "type": "float"
        },
        {
         "name": "pca_2",
         "rawType": "float64",
         "type": "float"
        },
        {
         "name": "tsne_1",
         "rawType": "float32",
         "type": "float"
        },
        {
         "name": "tsne_2",
         "rawType": "float32",
         "type": "float"
        }
       ],
       "conversionMethod": "pd.DataFrame",
       "ref": "ece4fb96-e217-4983-a97f-e5de2c65586d",
       "rows": [
        [
         "0",
         "17767_Centaurea%20nigra%20-%20Common%20knapweed_NIH3D.stl",
         "33367.97997684889",
         "1.0364318158917774",
         "18316.091570073688",
         "0.9181586347168436",
         "19.31667099023766",
         "-45372.12076371848",
         "901.6004557460315",
         "-0.6063254",
         "28.360538"
        ],
        [
         "1",
         "17775_Allium_schoenoprasum_-_Chive_NIH3D.stl",
         "8296.423176684193",
         "1.5256539322662006",
         "3232.5201493932977",
         "0.8463290521495225",
         "13.089053864850454",
         "-74398.87867581417",
         "-2778.672937617614",
         "-14.396932",
         "-31.214714"
        ],
        [
         "2",
         "17776_Lobularia%20maritima%20-%20Sweet%20alyssum_NIH3D.stl",
         "4488.867642954953",
         "1.8297724491578713",
         "2248.9294302744443",
         "0.2849070471802911",
         "17.281290671317425",
         "-78279.49432119704",
         "-2141.686235329243",
         "-6.254559",
         "-36.364124"
        ],
        [
         "3",
         "17777_Rubus%20fruticosus%20-%20Blackberry_NIH3D.stl",
         "21601.179354951877",
         "1.2112689932259881",
         "10293.755190175647",
         "0.8406605932868954",
         "17.19999880786466",
         "-59375.919544765144",
         "-1688.59211557056",
         "-30.415695",
         "9.872533"
        ],
        [
         "4",
         "17778_Salix%20alba%20-%20Willow_NIH3D.stl",
         "5917.265359455397",
         "1.03444231342904",
         "3069.4950338614635",
         "0.38797819650110243",
         "10.476293401339202",
         "-76641.41415607759",
         "-1967.4986497965133",
         "-8.709358",
         "-34.481316"
        ],
        [
         "5",
         "17779_Fragaria%20ananassa%20-%20Garden%20strawberry_NIH3D.stl",
         "17574.83733867868",
         "1.2287830525080083",
         "8551.647032881383",
         "0.3078256959716181",
         "11.76518801844342",
         "-63762.876355642395",
         "-1657.2743455066234",
         "-30.304487",
         "-2.2170627"
        ],
        [
         "6",
         "17781_Thymus%20vulgaris%20-%20Common%20thyme_NIH3D.stl",
         "32442.78658133998",
         "1.172872485352931",
         "16537.17002872998",
         "0.9165129335269312",
         "21.875131202459645",
         "-46936.643791485534",
         "-352.5177055197985",
         "-5.2142105",
         "26.782843"
        ],
        [
         "7",
         "17782_Lilium%20auratum%20-%20Golden-rayed%20lily_NIH3D.stl",
         "184814.33042990047",
         "1.8590774219170756",
         "110725.32133242158",
         "0.6069431117551544",
         "25.23497838005712",
         "130488.97527961187",
         "24318.212287501443",
         "47.125233",
         "-2.7784815"
        ],
        [
         "8",
         "17783_Plantago%20lanceolata%20-%20Ribwort%20plantain_NIH3D.stl",
         "18591.361390678372",
         "1.081959136051938",
         "9477.836034475662",
         "0.9742476666634979",
         "13.091001069185731",
         "-62458.99228755002",
         "-1220.2004960362742",
         "-31.78772",
         "1.230611"
        ],
        [
         "9",
         "17784_Rosa%20-%20Rose_NIH3D.stl",
         "14313.973081409113",
         "1.5803724370820613",
         "7048.805538424383",
         "0.8116058795946398",
         "19.634671552210385",
         "-67352.90649823388",
         "-1716.0266651002712",
         "-27.400127",
         "-12.967004"
        ],
        [
         "10",
         "17785_calystegia_sepium-bindweed_NIH3D.stl",
         "404023.4007200003",
         "1.0611112762068318",
         "211221.20921407777",
         "0.9464090329602707",
         "16.169551684246372",
         "371611.4448023322",
         "27781.54441216687",
         "47.89453",
         "1.8195386"
        ],
        [
         "11",
         "17786_Papaver%20-%20Welsh%20poppy_NIH3D.stl",
         "35906.33274211946",
         "1.0147419139053881",
         "19130.028081651086",
         "0.7392397318693724",
         "20.419300808324767",
         "-42721.199769184626",
         "621.6981754831904",
         "4.5866733",
         "21.137106"
        ],
        [
         "12",
         "17787_Iris%20pseudacorus%20-%20Yellow%20iris_NIH3D.stl",
         "642580.9299587269",
         "1.0147540964125283",
         "334428.4552971716",
         "0.18592823749006612",
         "45.39270689574132",
         "639603.4107636677",
         "44214.02517354365",
         "49.086086",
         "4.7575765"
        ],
        [
         "13",
         "17788_Ulex%20europaeus%20-%20Gorse_NIH3D.stl",
         "23655.32373435905",
         "1.1234369425014594",
         "11679.303547733714",
         "0.94165060186787",
         "16.01205010501159",
         "-56937.28225911338",
         "-1250.0700857989277",
         "-26.296453",
         "17.39118"
        ],
        [
         "14",
         "17789_Digitalis%20purpurea%20-%20Fox%20glove_NIH3D.stl",
         "26684.663147272833",
         "1.0547233838143446",
         "13721.614538587695",
         "0.5509311115535344",
         "22.208391734592755",
         "-53341.32539929567",
         "-604.2947965223332",
         "-21.656248",
         "24.60074"
        ],
        [
         "15",
         "17790_Sambucus%20nigra%20-%20Elder_NIH3D.stl",
         "5355.697898126189",
         "1.9605054635168297",
         "2375.692950864932",
         "0.46175101861699297",
         "12.692334236828437",
         "-77435.24956986771",
         "-2375.597503100455",
         "-7.277965",
         "-35.23518"
        ],
        [
         "16",
         "17791_Camellia%20japonica%20-%20Camellia_NIH3D.stl",
         "120623.01685329119",
         "1.214771991672123",
         "62889.76743558821",
         "0.30244486195088455",
         "21.75519939341156",
         "52450.80617762306",
         "6462.985638379632",
         "42.74116",
         "-5.3897243"
        ],
        [
         "17",
         "17792_Callistemon%20citrinus%20-%20Bottlebrush_NIH3D.stl",
         "7861.827163936819",
         "1.2497843375208249",
         "3745.0239243129417",
         "0.37754811695045226",
         "17.39663866370561",
         "-74589.62970459512",
         "-2134.3532519409323",
         "-13.038207",
         "-31.113993"
        ],
        [
         "18",
         "17793_Cordyline%20australis%20-%20Cabbage%20palm_NIH3D.stl",
         "15419.61006896858",
         "2.4081917938888213",
         "7102.874244929676",
         "0.6419751955709213",
         "20.5229754832061",
         "-66319.51613721202",
         "-2112.8401381204553",
         "-28.17583",
         "-10.207814"
        ],
        [
         "19",
         "17794_Buddleja%20davidii%20-%20Butterfly%20bush_NIH3D.stl",
         "24344.899499401377",
         "1.1579709898456765",
         "11694.779289569411",
         "0.9330430048360108",
         "21.500087145554325",
         "-56300.131087366826",
         "-1514.25301216265",
         "-24.947186",
         "17.543667"
        ],
        [
         "20",
         "17795_Calluna_vulgaris%20-%20Heather_NIH3D.stl",
         "36849.03302014471",
         "1.087880168974389",
         "18160.59321441442",
         "0.2934051538722162",
         "19.307848284830897",
         "-42250.0122857048",
         "-645.7678512054254",
         "2.8376157",
         "21.157604"
        ],
        [
         "21",
         "17796_Fuchsia%20magellanica%20-%20Hardy%20fuchsia_NIH3D.stl",
         "184093.11330596427",
         "1.4423880159557083",
         "73393.44537825619",
         "0.27458892053499717",
         "40.11310754226959",
         "114760.39749029068",
         "-9546.237467705698",
         "46.046932",
         "-2.3872662"
        ],
        [
         "22",
         "17798_Solanum%20lycopersicum%20-%20Tomato_NIH3D.stl",
         "17648.77312941715",
         "1.3974022991904085",
         "9188.126090966209",
         "0.9315268686080473",
         "13.914830804230576",
         "-63438.321385135576",
         "-1104.792523279022",
         "-31.570444",
         "-1.7455847"
        ],
        [
         "23",
         "17799_Cirsium%20vulgare%20-%20Common%20thistle_NIH3D.stl",
         "63260.188144684376",
         "1.0165441217282136",
         "32362.051527454165",
         "0.875128841532872",
         "20.45020034374784",
         "-12353.691412099317",
         "1686.7268300358105",
         "21.69986",
         "-8.418066"
        ],
        [
         "24",
         "17801_Clematis%20-%20Clematis_NIH3D.stl",
         "8895.507146677568",
         "1.0525136919065508",
         "4637.313575301227",
         "0.8371211703634756",
         "10.536176359537684",
         "-73283.73259755399",
         "-1735.2193498488355",
         "-16.289804",
         "-28.163042"
        ],
        [
         "25",
         "17802_Sorbus%20aria%20-%20Whitebeam_NIH3D.stl",
         "118571.3458038344",
         "1.0599156063799964",
         "62422.431372186256",
         "0.661644318665224",
         "23.298767518677938",
         "50385.061100291365",
         "6863.553193669553",
         "42.43595",
         "-6.3046913"
        ],
        [
         "26",
         "17803_Leucanthemum%20vulgare%20-%20Ox-eye%20daisy_NIH3D.stl",
         "41492.86428120654",
         "1.0807086434716102",
         "19761.301404115064",
         "0.8010558807921331",
         "20.8017905365904",
         "-37355.179148636",
         "-1055.6996140031126",
         "9.128399",
         "13.922678"
        ],
        [
         "27",
         "17805_Campanula%20portenschlagiana%20-%20Wall%20bellflower_NIH3D.stl",
         "57235.590595549904",
         "1.0625965195898686",
         "30447.986697485598",
         "0.7974550310749604",
         "23.74689381218015",
         "-18638.294927330622",
         "2367.2989853897534",
         "17.117495",
         "-6.5096507"
        ],
        [
         "28",
         "17806_anthriscus_sylvestris-cow_parsley_NIH3D.stl",
         "28020.06319903863",
         "1.430392996790737",
         "12297.823812158811",
         "0.3989828919400036",
         "26.12045942354985",
         "-52694.24750516679",
         "-2445.9689047876655",
         "-18.051605",
         "24.031786"
        ],
        [
         "29",
         "17810_Betula%20pendula%20-%20Silver%20birch_NIH3D.stl",
         "11420.63574479544",
         "1.1681933053158309",
         "5690.545003490876",
         "0.33022636608310296",
         "16.25453686144969",
         "-70548.3210674305",
         "-1790.8488370622858",
         "-22.910353",
         "-20.629227"
        ],
        [
         "30",
         "17811_Chenopodium%20album%20-%20Goosefoot_NIH3D.stl",
         "13829.462815118324",
         "1.0393021708786592",
         "7359.04329518441",
         "0.339828871356145",
         "11.153734709679746",
         "-67670.96804004983",
         "-1236.6160715405717",
         "-26.279366",
         "-13.296044"
        ],
        [
         "31",
         "17812_Prunus%20avium%20-%20Sweet%20cherry_NIH3D.stl",
         "33365.02832653704",
         "2.127652016685504",
         "18270.79704056495",
         "0.8123156929660726",
         "21.863698086841232",
         "-45393.10406529158",
         "861.3511437443726",
         "-1.7433106",
         "28.4747"
        ],
        [
         "32",
         "17813_Rosmarinus%20officinalis%20-%20Rosemary_NIH3D.stl",
         "41343.08817578742",
         "2.103793030636262",
         "20870.648250262337",
         "0.8205209945903",
         "23.903534290549228",
         "-37044.43252852989",
         "19.716518769917457",
         "8.135625",
         "13.348209"
        ],
        [
         "33",
         "17814_Calendula%20officinalis%20-%20Marigold_NIH3D.stl",
         "60242.31053618106",
         "1.0907469455461374",
         "31803.91397858304",
         "0.7067181568096071",
         "24.750702016736174",
         "-15340.086499982164",
         "2394.2204080433703",
         "19.2381",
         "-7.6718106"
        ],
        [
         "34",
         "17815_Cytisus%20scoparius%20-%20Broom_NIH3D.stl",
         "10356.130725915868",
         "1.1804716103543715",
         "6061.110364168065",
         "0.4531885384071402",
         "14.223270293012419",
         "-71372.67882606295",
         "-1022.1330850585805",
         "-20.664656",
         "-21.583008"
        ],
        [
         "35",
         "17816_Trifolium%20repens%20-%20White%20clover_NIH3D.stl",
         "8849.112140345114",
         "1.3521136897135413",
         "5116.978493817591",
         "0.6159094100757442",
         "13.047697896247492",
         "-73132.56712344279",
         "-1277.6388300408407",
         "-17.018675",
         "-27.254072"
        ],
        [
         "36",
         "17817_Ranunculus%20repens%20-%20Buttercup_NIH3D.stl",
         "20234.524132513117",
         "1.0692523060816814",
         "10763.02252916569",
         "0.5631617090153956",
         "15.736005758858793",
         "-60436.879332159544",
         "-707.6116564244699",
         "-32.71727",
         "9.819047"
        ],
        [
         "37",
         "17818_Bellis%20perennis%20-%20Common%20daisy_NIH3D.stl",
         "33033.86792223326",
         "1.075898004139001",
         "15531.169789329353",
         "0.47407109765027405",
         "12.17195100828101",
         "-46801.91773993149",
         "-1511.5097349014648",
         "-5.9410467",
         "25.721539"
        ],
        [
         "38",
         "17819_brassica_napus_NIH3D.stl",
         "16941.141785333366",
         "1.0358340156157695",
         "8728.65888758117",
         "0.8530882697153295",
         "16.79808093580338",
         "-64271.20564347983",
         "-1239.536886349637",
         "-30.735142",
         "-4.029214"
        ],
        [
         "39",
         "17820_Prunus%20avium%20-%20Sweet%20cherry_NIH3D.stl",
         "33365.02832653704",
         "2.127652016685504",
         "18270.79704056495",
         "0.8123156929660726",
         "21.863698086841232",
         "-45393.10406529158",
         "861.3511437443726",
         "-1.7433106",
         "28.4747"
        ],
        [
         "40",
         "17821_Allium%20ursinum%20-%20Wild%20garlic_NIH3D.stl",
         "16017.792296254363",
         "1.5045810828995623",
         "7646.118218574702",
         "0.3606887602858275",
         "15.285700116054892",
         "-65552.95287665131",
         "-1857.2687082722332",
         "-28.786036",
         "-8.179034"
        ],
        [
         "41",
         "17822_Prunus%20serrulata%20-%20Cherry%20blossom_NIH3D.stl",
         "44691.00399364141",
         "1.9065021653830039",
         "21662.280844387187",
         "0.44383066516769554",
         "21.054201571833225",
         "-33661.83143596463",
         "-607.3658809418348",
         "9.364245",
         "10.383196"
        ],
        [
         "42",
         "17823_Typhya%20latifolia%20-%20Common%20bulrush_NIH3D.stl",
         "23269.372842791352",
         "1.561896729356172",
         "13458.043862027984",
         "0.5370030461158136",
         "16.76628541746872",
         "-56572.42042264837",
         "533.1155602425829",
         "-27.105455",
         "20.063316"
        ],
        [
         "43",
         "17824_Lamium%20galeobdolon%20-%20Yellow%20archangel_NIH3D.stl",
         "4891.532031520336",
         "1.481212189009209",
         "2478.303369796731",
         "0.3647654270904416",
         "7.197076251748115",
         "-77818.50485200952",
         "-2094.360526056231",
         "-7.275412",
         "-36.276825"
        ],
        [
         "44",
         "17826_Ranunculus%20repens%20-%20Buttercup_NIH3D.stl",
         "20234.524132513117",
         "1.0692523060816814",
         "10763.02252916569",
         "0.5631617090153956",
         "15.736005758858793",
         "-60436.879332159544",
         "-707.6116564244699",
         "-33.53398",
         "9.418183"
        ],
        [
         "45",
         "17827_Taraxacum%20officinale%20-%20Dandelion_NIH3D.stl",
         "27194.48620977483",
         "1.133885480565153",
         "12781.787747875806",
         "0.6414954631541971",
         "14.382299137336847",
         "-53254.23351554863",
         "-1669.944342383361",
         "-19.531471",
         "23.879227"
        ],
        [
         "46",
         "17829_Rhododendron-Rhododendron_NIH3D.stl",
         "152776.92488259648",
         "1.3047465349009857",
         "76293.56252198976",
         "0.4913953611758775",
         "27.162419590444596",
         "87279.29800907701",
         "5747.666811023351",
         "45.237835",
         "-3.5285025"
        ],
        [
         "47",
         "17830_Impatiens%20walleriana%20-%20Busy%20lizzie_NIH3D.stl",
         "19397.783888733047",
         "1.5551466826831088",
         "9132.653664326936",
         "0.8951606840822321",
         "16.54246226238049",
         "-61860.51293481534",
         "-1861.5198977846417",
         "-31.579823",
         "3.535518"
        ],
        [
         "48",
         "17831_Ilex%20aquifolium%20-%20Common%20holly_NIH3D.stl",
         "78135.74174079097",
         "1.234619960277865",
         "37046.44806394402",
         "0.4304485273111728",
         "19.894034017629505",
         "3147.0242452484235",
         "-31.842287612393193",
         "31.755957",
         "-10.1742935"
        ],
        [
         "49",
         "17832_Hedera%20helix%20-%20Common%20ivy_NIH3D.stl",
         "70922.6633465521",
         "1.1390974279631205",
         "32822.01249088518",
         "0.2917723464308341",
         "17.304742966729968",
         "-5157.503805221844",
         "-985.3461906166015",
         "27.0184",
         "-10.442324"
        ]
       ],
       "shape": {
        "columns": 10,
        "rows": 208
       }
      },
      "text/html": [
       "<div>\n",
       "<style scoped>\n",
       "    .dataframe tbody tr th:only-of-type {\n",
       "        vertical-align: middle;\n",
       "    }\n",
       "\n",
       "    .dataframe tbody tr th {\n",
       "        vertical-align: top;\n",
       "    }\n",
       "\n",
       "    .dataframe thead th {\n",
       "        text-align: right;\n",
       "    }\n",
       "</style>\n",
       "<table border=\"1\" class=\"dataframe\">\n",
       "  <thead>\n",
       "    <tr style=\"text-align: right;\">\n",
       "      <th></th>\n",
       "      <th>file_name</th>\n",
       "      <th>bounding_box_volume</th>\n",
       "      <th>aspect_ratio</th>\n",
       "      <th>convex_hull_volume</th>\n",
       "      <th>sphericity</th>\n",
       "      <th>symmetry_deviation</th>\n",
       "      <th>pca_1</th>\n",
       "      <th>pca_2</th>\n",
       "      <th>tsne_1</th>\n",
       "      <th>tsne_2</th>\n",
       "    </tr>\n",
       "  </thead>\n",
       "  <tbody>\n",
       "    <tr>\n",
       "      <th>0</th>\n",
       "      <td>17767_Centaurea%20nigra%20-%20Common%20knapwee...</td>\n",
       "      <td>33367.979977</td>\n",
       "      <td>1.036432</td>\n",
       "      <td>18316.091570</td>\n",
       "      <td>0.918159</td>\n",
       "      <td>19.316671</td>\n",
       "      <td>-45372.120764</td>\n",
       "      <td>901.600456</td>\n",
       "      <td>-0.606325</td>\n",
       "      <td>28.360538</td>\n",
       "    </tr>\n",
       "    <tr>\n",
       "      <th>1</th>\n",
       "      <td>17775_Allium_schoenoprasum_-_Chive_NIH3D.stl</td>\n",
       "      <td>8296.423177</td>\n",
       "      <td>1.525654</td>\n",
       "      <td>3232.520149</td>\n",
       "      <td>0.846329</td>\n",
       "      <td>13.089054</td>\n",
       "      <td>-74398.878676</td>\n",
       "      <td>-2778.672938</td>\n",
       "      <td>-14.396932</td>\n",
       "      <td>-31.214714</td>\n",
       "    </tr>\n",
       "    <tr>\n",
       "      <th>2</th>\n",
       "      <td>17776_Lobularia%20maritima%20-%20Sweet%20alyss...</td>\n",
       "      <td>4488.867643</td>\n",
       "      <td>1.829772</td>\n",
       "      <td>2248.929430</td>\n",
       "      <td>0.284907</td>\n",
       "      <td>17.281291</td>\n",
       "      <td>-78279.494321</td>\n",
       "      <td>-2141.686235</td>\n",
       "      <td>-6.254559</td>\n",
       "      <td>-36.364124</td>\n",
       "    </tr>\n",
       "    <tr>\n",
       "      <th>3</th>\n",
       "      <td>17777_Rubus%20fruticosus%20-%20Blackberry_NIH3...</td>\n",
       "      <td>21601.179355</td>\n",
       "      <td>1.211269</td>\n",
       "      <td>10293.755190</td>\n",
       "      <td>0.840661</td>\n",
       "      <td>17.199999</td>\n",
       "      <td>-59375.919545</td>\n",
       "      <td>-1688.592116</td>\n",
       "      <td>-30.415695</td>\n",
       "      <td>9.872533</td>\n",
       "    </tr>\n",
       "    <tr>\n",
       "      <th>4</th>\n",
       "      <td>17778_Salix%20alba%20-%20Willow_NIH3D.stl</td>\n",
       "      <td>5917.265359</td>\n",
       "      <td>1.034442</td>\n",
       "      <td>3069.495034</td>\n",
       "      <td>0.387978</td>\n",
       "      <td>10.476293</td>\n",
       "      <td>-76641.414156</td>\n",
       "      <td>-1967.498650</td>\n",
       "      <td>-8.709358</td>\n",
       "      <td>-34.481316</td>\n",
       "    </tr>\n",
       "    <tr>\n",
       "      <th>...</th>\n",
       "      <td>...</td>\n",
       "      <td>...</td>\n",
       "      <td>...</td>\n",
       "      <td>...</td>\n",
       "      <td>...</td>\n",
       "      <td>...</td>\n",
       "      <td>...</td>\n",
       "      <td>...</td>\n",
       "      <td>...</td>\n",
       "      <td>...</td>\n",
       "    </tr>\n",
       "    <tr>\n",
       "      <th>203</th>\n",
       "      <td>21603_pyrola_minor_NIH3D.stl</td>\n",
       "      <td>62452.386299</td>\n",
       "      <td>1.292981</td>\n",
       "      <td>28960.462673</td>\n",
       "      <td>0.368788</td>\n",
       "      <td>22.166627</td>\n",
       "      <td>-14465.788087</td>\n",
       "      <td>-1099.381240</td>\n",
       "      <td>20.592493</td>\n",
       "      <td>-6.588418</td>\n",
       "    </tr>\n",
       "    <tr>\n",
       "      <th>204</th>\n",
       "      <td>21611_malus_sylvestris_NIH3D.stl</td>\n",
       "      <td>17636.453751</td>\n",
       "      <td>1.589318</td>\n",
       "      <td>9486.674904</td>\n",
       "      <td>0.412176</td>\n",
       "      <td>18.016070</td>\n",
       "      <td>-63329.085664</td>\n",
       "      <td>-826.672551</td>\n",
       "      <td>-32.579346</td>\n",
       "      <td>-1.922001</td>\n",
       "    </tr>\n",
       "    <tr>\n",
       "      <th>205</th>\n",
       "      <td>21618_pentaglottis_sempervirens_NIH3D.stl</td>\n",
       "      <td>3806.874488</td>\n",
       "      <td>1.441439</td>\n",
       "      <td>2219.436880</td>\n",
       "      <td>0.343323</td>\n",
       "      <td>21.183689</td>\n",
       "      <td>-78915.365812</td>\n",
       "      <td>-1893.388188</td>\n",
       "      <td>-6.689885</td>\n",
       "      <td>-37.553547</td>\n",
       "    </tr>\n",
       "    <tr>\n",
       "      <th>206</th>\n",
       "      <td>21628_primula_veris_NIH3D.stl</td>\n",
       "      <td>9050.521404</td>\n",
       "      <td>1.384832</td>\n",
       "      <td>3707.667285</td>\n",
       "      <td>0.249019</td>\n",
       "      <td>18.198941</td>\n",
       "      <td>-73517.151998</td>\n",
       "      <td>-2648.338741</td>\n",
       "      <td>-15.483149</td>\n",
       "      <td>-29.722666</td>\n",
       "    </tr>\n",
       "    <tr>\n",
       "      <th>207</th>\n",
       "      <td>21628_prunus_padus_NIH3D.stl</td>\n",
       "      <td>39344.171546</td>\n",
       "      <td>1.062218</td>\n",
       "      <td>19142.068581</td>\n",
       "      <td>0.290688</td>\n",
       "      <td>21.100723</td>\n",
       "      <td>-39571.002960</td>\n",
       "      <td>-754.942910</td>\n",
       "      <td>8.235846</td>\n",
       "      <td>15.943421</td>\n",
       "    </tr>\n",
       "  </tbody>\n",
       "</table>\n",
       "<p>208 rows × 10 columns</p>\n",
       "</div>"
      ],
      "text/plain": [
       "                                             file_name  bounding_box_volume  \\\n",
       "0    17767_Centaurea%20nigra%20-%20Common%20knapwee...         33367.979977   \n",
       "1         17775_Allium_schoenoprasum_-_Chive_NIH3D.stl          8296.423177   \n",
       "2    17776_Lobularia%20maritima%20-%20Sweet%20alyss...          4488.867643   \n",
       "3    17777_Rubus%20fruticosus%20-%20Blackberry_NIH3...         21601.179355   \n",
       "4            17778_Salix%20alba%20-%20Willow_NIH3D.stl          5917.265359   \n",
       "..                                                 ...                  ...   \n",
       "203                       21603_pyrola_minor_NIH3D.stl         62452.386299   \n",
       "204                   21611_malus_sylvestris_NIH3D.stl         17636.453751   \n",
       "205          21618_pentaglottis_sempervirens_NIH3D.stl          3806.874488   \n",
       "206                      21628_primula_veris_NIH3D.stl          9050.521404   \n",
       "207                       21628_prunus_padus_NIH3D.stl         39344.171546   \n",
       "\n",
       "     aspect_ratio  convex_hull_volume  sphericity  symmetry_deviation  \\\n",
       "0        1.036432        18316.091570    0.918159           19.316671   \n",
       "1        1.525654         3232.520149    0.846329           13.089054   \n",
       "2        1.829772         2248.929430    0.284907           17.281291   \n",
       "3        1.211269        10293.755190    0.840661           17.199999   \n",
       "4        1.034442         3069.495034    0.387978           10.476293   \n",
       "..            ...                 ...         ...                 ...   \n",
       "203      1.292981        28960.462673    0.368788           22.166627   \n",
       "204      1.589318         9486.674904    0.412176           18.016070   \n",
       "205      1.441439         2219.436880    0.343323           21.183689   \n",
       "206      1.384832         3707.667285    0.249019           18.198941   \n",
       "207      1.062218        19142.068581    0.290688           21.100723   \n",
       "\n",
       "            pca_1        pca_2     tsne_1     tsne_2  \n",
       "0   -45372.120764   901.600456  -0.606325  28.360538  \n",
       "1   -74398.878676 -2778.672938 -14.396932 -31.214714  \n",
       "2   -78279.494321 -2141.686235  -6.254559 -36.364124  \n",
       "3   -59375.919545 -1688.592116 -30.415695   9.872533  \n",
       "4   -76641.414156 -1967.498650  -8.709358 -34.481316  \n",
       "..            ...          ...        ...        ...  \n",
       "203 -14465.788087 -1099.381240  20.592493  -6.588418  \n",
       "204 -63329.085664  -826.672551 -32.579346  -1.922001  \n",
       "205 -78915.365812 -1893.388188  -6.689885 -37.553547  \n",
       "206 -73517.151998 -2648.338741 -15.483149 -29.722666  \n",
       "207 -39571.002960  -754.942910   8.235846  15.943421  \n",
       "\n",
       "[208 rows x 10 columns]"
      ]
     },
     "metadata": {},
     "output_type": "display_data"
    }
   ],
   "source": [
    "explorer = MeshExplorer()\n",
    "adv_results = explorer.run_advanced_analysis()\n",
    "display(adv_results)"
   ]
  },
  {
   "cell_type": "code",
   "execution_count": null,
   "id": "010484e8",
   "metadata": {},
   "outputs": [
    {
     "name": "stdout",
     "output_type": "stream",
     "text": [
      "None\n"
     ]
    },
    {
     "ename": "AttributeError",
     "evalue": "'NoneType' object has no attribute 'show'",
     "output_type": "error",
     "traceback": [
      "\u001b[1;31m---------------------------------------------------------------------------\u001b[0m",
      "\u001b[1;31mAttributeError\u001b[0m                            Traceback (most recent call last)",
      "Cell \u001b[1;32mIn[22], line 4\u001b[0m\n\u001b[0;32m      2\u001b[0m plt \u001b[38;5;241m=\u001b[39m explorer\u001b[38;5;241m.\u001b[39mvisualize_advanced_properties(adv_results)\n\u001b[0;32m      3\u001b[0m \u001b[38;5;28mprint\u001b[39m(plt)\n\u001b[1;32m----> 4\u001b[0m \u001b[43mplt\u001b[49m\u001b[38;5;241;43m.\u001b[39;49m\u001b[43mshow\u001b[49m()\n",
      "\u001b[1;31mAttributeError\u001b[0m: 'NoneType' object has no attribute 'show'"
     ]
    }
   ],
   "source": [
    "%matplotlib inline\n",
    "plt = explorer.visualize_advanced_properties(adv_results)"
   ]
  },
  {
   "cell_type": "code",
   "execution_count": null,
   "id": "753f8e72",
   "metadata": {},
   "outputs": [],
   "source": [
    "\n",
    "explorer.visualize_advanced_properties(adv_results)"
   ]
  },
  {
   "cell_type": "code",
   "execution_count": null,
   "id": "3b05f5a0",
   "metadata": {},
   "outputs": [],
   "source": [
    "explorer.perform_dimensionality_reduction(adv_results)\n"
   ]
  },
  {
   "cell_type": "markdown",
   "id": "c6115e71",
   "metadata": {},
   "source": [
    "# 3D Model Cleaning Pipeline  \n",
    "\n",
    "## Overview of the MeshCleaner Class  \n",
    "\n",
    "The `MeshCleaner` class provides a comprehensive pipeline for processing, analyzing, and cleaning 3D STL models. It is specifically designed for preparing 3D models for machine learning, visualization, or 3D printing.  \n",
    "\n",
    "## Key Features  \n",
    "\n",
    "- **Model Analysis**: Computes geometric properties and quality metrics  \n",
    "- **Model Cleaning**: Removes defects and fills holes  \n",
    "- **Model Normalization**: Scaling, centering, and orientation adjustments  \n",
    "- **Visualization**: Generates statistics and charts for model analysis  \n",
    "\n",
    "## Three-Stage Hole Filling  \n",
    "\n",
    "The pipeline implements an advanced three-stage strategy for filling holes:  \n",
    "\n",
    "### 1. Small Holes (`trimesh.fill_holes`)  \n",
    "- **Method**: Native Trimesh functionality  \n",
    "- **Best for**: Small, simple holes  \n",
    "- **Advantages**: Fast and efficient for minor defects  \n",
    "\n",
    "### 2. Medium-Sized Holes (`vtkFillHolesFilter`)  \n",
    "- **Method**: VTK library functions  \n",
    "- **Best for**: Medium-sized holes with moderate complexity  \n",
    "- **Advantages**: More robust for larger holes where Trimesh fails  \n",
    "\n",
    "### 3. Complex Holes (`manifold3d`)  \n",
    "- **Method**: Manifold repair algorithm  \n",
    "- **Best for**: Complex topology, multiple or large gaps  \n",
    "- **Advantages**: Can repair severely damaged meshes  \n",
    "\n",
    "## Workflow  \n",
    "\n",
    "1. The model is loaded, and basic statistics are collected  \n",
    "2. Unreferenced vertices are removed  \n",
    "3. The three-stage hole filling process is applied (if enabled)  \n",
    "4. Duplicate faces are removed (if enabled)  \n",
    "5. The model is scaled (if enabled)  \n",
    "6. The model is centered (if enabled)  \n",
    "7. The cleaned model is saved  \n",
    "8. Statistical reports and visualizations are generated  \n",
    "\n",
    "## Dependencies  \n",
    "\n",
    "The pipeline utilizes several specialized libraries:  "
   ]
  },
  {
   "cell_type": "markdown",
   "id": "94d83ecb",
   "metadata": {},
   "source": [
    "\n",
    "\n",
    "Die Software prüft nach jeder Bearbeitung, ob die Modelle wasserdicht sind, und erstellt eine Liste von Modellen, die weiterhin Probleme aufweisen. Diese können dann gezielt nachbearbeitet werden."
   ]
  },
  {
   "cell_type": "code",
   "execution_count": null,
   "id": "79b6c8ca",
   "metadata": {},
   "outputs": [
    {
     "name": "stderr",
     "output_type": "stream",
     "text": [
      "Processing Meshes:   0%|          | 0/208 [00:00<?, ?it/s]"
     ]
    },
    {
     "name": "stdout",
     "output_type": "stream",
     "text": [
      "Processing 17767_Centaurea%20nigra%20-%20Common%20knapweed_NIH3D.stl: Watertight=True\n"
     ]
    },
    {
     "name": "stderr",
     "output_type": "stream",
     "text": [
      "Processing Meshes:   0%|          | 1/208 [00:03<12:14,  3.55s/it]"
     ]
    },
    {
     "name": "stdout",
     "output_type": "stream",
     "text": [
      "✓ Saved: 17767_Centaurea%20nigra%20-%20Common%20knapweed_NIH3D.stl (Vertices: 99186 → 99186, Faces: 198368 → 198368, Watertight: True → True)\n"
     ]
    },
    {
     "name": "stderr",
     "output_type": "stream",
     "text": [
      "Processing Meshes:   1%|          | 2/208 [00:05<08:01,  2.34s/it]"
     ]
    },
    {
     "name": "stdout",
     "output_type": "stream",
     "text": [
      "Processing 17775_Allium_schoenoprasum_-_Chive_NIH3D.stl: Watertight=True\n",
      "✓ Saved: 17775_Allium_schoenoprasum_-_Chive_NIH3D.stl (Vertices: 39836 → 39836, Faces: 79668 → 79668, Watertight: True → True)\n",
      "Processing 17776_Lobularia%20maritima%20-%20Sweet%20alyssum_NIH3D.stl: Watertight=False\n",
      "  ✗ Mesh is still not watertight after repair\n"
     ]
    },
    {
     "name": "stderr",
     "output_type": "stream",
     "text": [
      "Processing Meshes:   1%|▏         | 3/208 [00:13<16:45,  4.91s/it]"
     ]
    },
    {
     "name": "stdout",
     "output_type": "stream",
     "text": [
      "✗ Saved: 17776_Lobularia%20maritima%20-%20Sweet%20alyssum_NIH3D.stl (Vertices: 90020 → 90020, Faces: 181272 → 181253, Watertight: False → False)\n",
      "Processing 17777_Rubus%20fruticosus%20-%20Blackberry_NIH3D.stl: Watertight=True\n"
     ]
    },
    {
     "name": "stderr",
     "output_type": "stream",
     "text": [
      "Processing Meshes:   2%|▏         | 4/208 [00:15<13:54,  4.09s/it]"
     ]
    },
    {
     "name": "stdout",
     "output_type": "stream",
     "text": [
      "✓ Saved: 17777_Rubus%20fruticosus%20-%20Blackberry_NIH3D.stl (Vertices: 82007 → 82007, Faces: 163942 → 163942, Watertight: True → True)\n",
      "Processing 17778_Salix%20alba%20-%20Willow_NIH3D.stl: Watertight=True\n",
      "✓ Saved: 17778_Salix%20alba%20-%20Willow_NIH3D.stl (Vertices: 82380 → 82380, Faces: 164768 → 164768, Watertight: True → True)\n"
     ]
    },
    {
     "name": "stderr",
     "output_type": "stream",
     "text": [
      "Processing Meshes:   2%|▏         | 5/208 [00:18<12:32,  3.70s/it]"
     ]
    },
    {
     "name": "stdout",
     "output_type": "stream",
     "text": [
      "Processing 17779_Fragaria%20ananassa%20-%20Garden%20strawberry_NIH3D.stl: Watertight=True\n",
      "✓ Saved: 17779_Fragaria%20ananassa%20-%20Garden%20strawberry_NIH3D.stl (Vertices: 82614 → 82614, Faces: 165232 → 165232, Watertight: True → True)\n"
     ]
    },
    {
     "name": "stderr",
     "output_type": "stream",
     "text": [
      "Processing Meshes:   3%|▎         | 6/208 [00:21<11:28,  3.41s/it]"
     ]
    },
    {
     "name": "stdout",
     "output_type": "stream",
     "text": [
      "Processing 17781_Thymus%20vulgaris%20-%20Common%20thyme_NIH3D.stl: Watertight=True\n"
     ]
    },
    {
     "name": "stderr",
     "output_type": "stream",
     "text": [
      "Processing Meshes:   3%|▎         | 7/208 [00:24<11:03,  3.30s/it]"
     ]
    },
    {
     "name": "stdout",
     "output_type": "stream",
     "text": [
      "✓ Saved: 17781_Thymus%20vulgaris%20-%20Common%20thyme_NIH3D.stl (Vertices: 83564 → 83564, Faces: 167096 → 167096, Watertight: True → True)\n",
      "Processing 17782_Lilium%20auratum%20-%20Golden-rayed%20lily_NIH3D.stl: Watertight=False\n",
      "  ✗ Mesh is still not watertight after repair\n"
     ]
    },
    {
     "name": "stderr",
     "output_type": "stream",
     "text": [
      "Processing Meshes:   4%|▍         | 8/208 [00:32<15:14,  4.57s/it]"
     ]
    },
    {
     "name": "stdout",
     "output_type": "stream",
     "text": [
      "✗ Saved: 17782_Lilium%20auratum%20-%20Golden-rayed%20lily_NIH3D.stl (Vertices: 83865 → 83865, Faces: 167776 → 167770, Watertight: False → False)\n",
      "Processing 17783_Plantago%20lanceolata%20-%20Ribwort%20plantain_NIH3D.stl: Watertight=True\n"
     ]
    },
    {
     "name": "stderr",
     "output_type": "stream",
     "text": [
      "Processing Meshes:   4%|▍         | 9/208 [00:35<13:30,  4.07s/it]"
     ]
    },
    {
     "name": "stdout",
     "output_type": "stream",
     "text": [
      "✓ Saved: 17783_Plantago%20lanceolata%20-%20Ribwort%20plantain_NIH3D.stl (Vertices: 79525 → 79525, Faces: 158918 → 158918, Watertight: True → True)\n",
      "Processing 17784_Rosa%20-%20Rose_NIH3D.stl: Watertight=True\n"
     ]
    },
    {
     "name": "stderr",
     "output_type": "stream",
     "text": [
      "Processing Meshes:   5%|▍         | 10/208 [00:37<12:15,  3.72s/it]"
     ]
    },
    {
     "name": "stdout",
     "output_type": "stream",
     "text": [
      "✓ Saved: 17784_Rosa%20-%20Rose_NIH3D.stl (Vertices: 80450 → 80450, Faces: 160896 → 160896, Watertight: True → True)\n",
      "Processing 17785_calystegia_sepium-bindweed_NIH3D.stl: Watertight=True\n"
     ]
    },
    {
     "name": "stderr",
     "output_type": "stream",
     "text": [
      "Processing Meshes:   5%|▌         | 11/208 [00:41<12:02,  3.67s/it]"
     ]
    },
    {
     "name": "stdout",
     "output_type": "stream",
     "text": [
      "✓ Saved: 17785_calystegia_sepium-bindweed_NIH3D.stl (Vertices: 98563 → 98563, Faces: 197122 → 197122, Watertight: True → True)\n",
      "Processing 17786_Papaver%20-%20Welsh%20poppy_NIH3D.stl: Watertight=False\n",
      "  ✗ Mesh is still not watertight after repair\n"
     ]
    },
    {
     "name": "stderr",
     "output_type": "stream",
     "text": [
      "Processing Meshes:   6%|▌         | 12/208 [00:48<15:12,  4.65s/it]"
     ]
    },
    {
     "name": "stdout",
     "output_type": "stream",
     "text": [
      "✗ Saved: 17786_Papaver%20-%20Welsh%20poppy_NIH3D.stl (Vertices: 80745 → 80745, Faces: 161426 → 161426, Watertight: False → False)\n",
      "Processing 17787_Iris%20pseudacorus%20-%20Yellow%20iris_NIH3D.stl: Watertight=False\n",
      "  ✗ Mesh is still not watertight after repair\n"
     ]
    },
    {
     "name": "stderr",
     "output_type": "stream",
     "text": [
      "Processing Meshes:   6%|▋         | 13/208 [00:55<17:45,  5.47s/it]"
     ]
    },
    {
     "name": "stdout",
     "output_type": "stream",
     "text": [
      "✗ Saved: 17787_Iris%20pseudacorus%20-%20Yellow%20iris_NIH3D.stl (Vertices: 84823 → 84823, Faces: 171812 → 171740, Watertight: False → False)\n",
      "Processing 17788_Ulex%20europaeus%20-%20Gorse_NIH3D.stl: Watertight=True\n"
     ]
    },
    {
     "name": "stderr",
     "output_type": "stream",
     "text": [
      "Processing Meshes:   7%|▋         | 14/208 [00:58<15:22,  4.76s/it]"
     ]
    },
    {
     "name": "stdout",
     "output_type": "stream",
     "text": [
      "✓ Saved: 17788_Ulex%20europaeus%20-%20Gorse_NIH3D.stl (Vertices: 87969 → 87969, Faces: 175934 → 175934, Watertight: True → True)\n",
      "Processing 17789_Digitalis%20purpurea%20-%20Fox%20glove_NIH3D.stl: Watertight=False\n",
      "  ✗ Mesh is still not watertight after repair\n"
     ]
    },
    {
     "name": "stderr",
     "output_type": "stream",
     "text": [
      "Processing Meshes:   7%|▋         | 15/208 [01:06<17:37,  5.48s/it]"
     ]
    },
    {
     "name": "stdout",
     "output_type": "stream",
     "text": [
      "✗ Saved: 17789_Digitalis%20purpurea%20-%20Fox%20glove_NIH3D.stl (Vertices: 82151 → 82151, Faces: 164330 → 164329, Watertight: False → False)\n",
      "Processing 17790_Sambucus%20nigra%20-%20Elder_NIH3D.stl: Watertight=True\n"
     ]
    },
    {
     "name": "stderr",
     "output_type": "stream",
     "text": [
      "Processing Meshes:   8%|▊         | 16/208 [01:09<15:32,  4.86s/it]"
     ]
    },
    {
     "name": "stdout",
     "output_type": "stream",
     "text": [
      "✓ Saved: 17790_Sambucus%20nigra%20-%20Elder_NIH3D.stl (Vertices: 90801 → 90801, Faces: 181610 → 181610, Watertight: True → True)\n",
      "Processing 17791_Camellia%20japonica%20-%20Camellia_NIH3D.stl: Watertight=False\n",
      "  ✗ Mesh is still not watertight after repair\n"
     ]
    },
    {
     "name": "stderr",
     "output_type": "stream",
     "text": [
      "Processing Meshes:   8%|▊         | 17/208 [01:17<18:26,  5.79s/it]"
     ]
    },
    {
     "name": "stdout",
     "output_type": "stream",
     "text": [
      "✗ Saved: 17791_Camellia%20japonica%20-%20Camellia_NIH3D.stl (Vertices: 91529 → 91529, Faces: 183076 → 183076, Watertight: False → False)\n",
      "Processing 17792_Callistemon%20citrinus%20-%20Bottlebrush_NIH3D.stl: Watertight=True\n"
     ]
    },
    {
     "name": "stderr",
     "output_type": "stream",
     "text": [
      "Processing Meshes:   9%|▊         | 18/208 [01:20<16:11,  5.11s/it]"
     ]
    },
    {
     "name": "stdout",
     "output_type": "stream",
     "text": [
      "✓ Saved: 17792_Callistemon%20citrinus%20-%20Bottlebrush_NIH3D.stl (Vertices: 93588 → 93588, Faces: 187168 → 187168, Watertight: True → True)\n",
      "Processing 17793_Cordyline%20australis%20-%20Cabbage%20palm_NIH3D.stl: Watertight=True\n"
     ]
    },
    {
     "name": "stderr",
     "output_type": "stream",
     "text": [
      "Processing Meshes:   9%|▉         | 19/208 [01:24<14:25,  4.58s/it]"
     ]
    },
    {
     "name": "stdout",
     "output_type": "stream",
     "text": [
      "✓ Saved: 17793_Cordyline%20australis%20-%20Cabbage%20palm_NIH3D.stl (Vertices: 92076 → 92076, Faces: 183808 → 183808, Watertight: True → True)\n",
      "Processing 17794_Buddleja%20davidii%20-%20Butterfly%20bush_NIH3D.stl: Watertight=True\n"
     ]
    },
    {
     "name": "stderr",
     "output_type": "stream",
     "text": [
      "Processing Meshes:  10%|▉         | 20/208 [01:27<13:03,  4.17s/it]"
     ]
    },
    {
     "name": "stdout",
     "output_type": "stream",
     "text": [
      "✓ Saved: 17794_Buddleja%20davidii%20-%20Butterfly%20bush_NIH3D.stl (Vertices: 82123 → 82123, Faces: 164210 → 164210, Watertight: True → True)\n",
      "Processing 17795_Calluna_vulgaris%20-%20Heather_NIH3D.stl: Watertight=False\n",
      "  ✗ Mesh is still not watertight after repair\n"
     ]
    },
    {
     "name": "stderr",
     "output_type": "stream",
     "text": [
      "Processing Meshes:  10%|█         | 21/208 [01:36<17:09,  5.50s/it]"
     ]
    },
    {
     "name": "stdout",
     "output_type": "stream",
     "text": [
      "✗ Saved: 17795_Calluna_vulgaris%20-%20Heather_NIH3D.stl (Vertices: 96296 → 96296, Faces: 192576 → 192576, Watertight: False → False)\n",
      "Processing 17796_Fuchsia%20magellanica%20-%20Hardy%20fuchsia_NIH3D.stl: Watertight=True\n"
     ]
    },
    {
     "name": "stderr",
     "output_type": "stream",
     "text": [
      "Processing Meshes:  11%|█         | 22/208 [01:39<15:22,  4.96s/it]"
     ]
    },
    {
     "name": "stdout",
     "output_type": "stream",
     "text": [
      "✓ Saved: 17796_Fuchsia%20magellanica%20-%20Hardy%20fuchsia_NIH3D.stl (Vertices: 96503 → 96503, Faces: 193010 → 193010, Watertight: True → True)\n",
      "Processing 17798_Solanum%20lycopersicum%20-%20Tomato_NIH3D.stl: Watertight=True\n"
     ]
    },
    {
     "name": "stderr",
     "output_type": "stream",
     "text": [
      "Processing Meshes:  11%|█         | 23/208 [01:43<14:03,  4.56s/it]"
     ]
    },
    {
     "name": "stdout",
     "output_type": "stream",
     "text": [
      "✓ Saved: 17798_Solanum%20lycopersicum%20-%20Tomato_NIH3D.stl (Vertices: 97732 → 97732, Faces: 195444 → 195444, Watertight: True → True)\n",
      "Processing 17799_Cirsium%20vulgare%20-%20Common%20thistle_NIH3D.stl: Watertight=True\n"
     ]
    },
    {
     "name": "stderr",
     "output_type": "stream",
     "text": [
      "Processing Meshes:  12%|█▏        | 24/208 [01:46<12:57,  4.23s/it]"
     ]
    },
    {
     "name": "stdout",
     "output_type": "stream",
     "text": [
      "✓ Saved: 17799_Cirsium%20vulgare%20-%20Common%20thistle_NIH3D.stl (Vertices: 92556 → 92556, Faces: 185088 → 185088, Watertight: True → True)\n",
      "Processing 17801_Clematis%20-%20Clematis_NIH3D.stl: Watertight=False\n",
      "  ✗ Mesh is still not watertight after repair\n"
     ]
    },
    {
     "name": "stderr",
     "output_type": "stream",
     "text": [
      "Processing Meshes:  12%|█▏        | 25/208 [02:07<27:50,  9.13s/it]"
     ]
    },
    {
     "name": "stdout",
     "output_type": "stream",
     "text": [
      "✗ Saved: 17801_Clematis%20-%20Clematis_NIH3D.stl (Vertices: 236314 → 236314, Faces: 472616 → 472616, Watertight: False → False)\n",
      "Processing 17802_Sorbus%20aria%20-%20Whitebeam_NIH3D.stl: Watertight=False\n",
      "  ✗ Mesh is still not watertight after repair\n"
     ]
    },
    {
     "name": "stderr",
     "output_type": "stream",
     "text": [
      "Processing Meshes:  12%|█▎        | 26/208 [02:16<27:19,  9.01s/it]"
     ]
    },
    {
     "name": "stdout",
     "output_type": "stream",
     "text": [
      "✗ Saved: 17802_Sorbus%20aria%20-%20Whitebeam_NIH3D.stl (Vertices: 96835 → 96835, Faces: 192560 → 192555, Watertight: False → False)\n",
      "Processing 17803_Leucanthemum%20vulgare%20-%20Ox-eye%20daisy_NIH3D.stl: Watertight=True\n"
     ]
    },
    {
     "name": "stderr",
     "output_type": "stream",
     "text": [
      "Processing Meshes:  13%|█▎        | 27/208 [02:19<22:24,  7.43s/it]"
     ]
    },
    {
     "name": "stdout",
     "output_type": "stream",
     "text": [
      "✓ Saved: 17803_Leucanthemum%20vulgare%20-%20Ox-eye%20daisy_NIH3D.stl (Vertices: 99113 → 99113, Faces: 198226 → 198226, Watertight: True → True)\n",
      "Processing 17805_Campanula%20portenschlagiana%20-%20Wall%20bellflower_NIH3D.stl: Watertight=True\n"
     ]
    },
    {
     "name": "stderr",
     "output_type": "stream",
     "text": [
      "Processing Meshes:  13%|█▎        | 28/208 [02:23<18:35,  6.20s/it]"
     ]
    },
    {
     "name": "stdout",
     "output_type": "stream",
     "text": [
      "✓ Saved: 17805_Campanula%20portenschlagiana%20-%20Wall%20bellflower_NIH3D.stl (Vertices: 91244 → 91244, Faces: 182368 → 182368, Watertight: True → True)\n",
      "Processing 17806_anthriscus_sylvestris-cow_parsley_NIH3D.stl: Watertight=True\n"
     ]
    },
    {
     "name": "stderr",
     "output_type": "stream",
     "text": [
      "Processing Meshes:  14%|█▍        | 29/208 [02:26<15:49,  5.30s/it]"
     ]
    },
    {
     "name": "stdout",
     "output_type": "stream",
     "text": [
      "✓ Saved: 17806_anthriscus_sylvestris-cow_parsley_NIH3D.stl (Vertices: 84729 → 84729, Faces: 169454 → 169454, Watertight: True → True)\n"
     ]
    },
    {
     "name": "stderr",
     "output_type": "stream",
     "text": [
      "Processing Meshes:  14%|█▍        | 29/208 [02:33<15:47,  5.29s/it]"
     ]
    },
    {
     "name": "stdout",
     "output_type": "stream",
     "text": [
      "Processing 17810_Betula%20pendula%20-%20Silver%20birch_NIH3D.stl: Watertight=True\n"
     ]
    },
    {
     "name": "stderr",
     "output_type": "stream",
     "text": [
      "\n"
     ]
    },
    {
     "ename": "KeyboardInterrupt",
     "evalue": "",
     "output_type": "error",
     "traceback": [
      "\u001b[1;31m---------------------------------------------------------------------------\u001b[0m",
      "\u001b[1;31mKeyboardInterrupt\u001b[0m                         Traceback (most recent call last)",
      "Cell \u001b[1;32mIn[7], line 2\u001b[0m\n\u001b[0;32m      1\u001b[0m cleaner \u001b[38;5;241m=\u001b[39m MeshCleaner()\n\u001b[1;32m----> 2\u001b[0m \u001b[43mcleaner\u001b[49m\u001b[38;5;241;43m.\u001b[39;49m\u001b[43mprocess_all\u001b[49m\u001b[43m(\u001b[49m\u001b[43m)\u001b[49m\n",
      "File \u001b[1;32mc:\\Users\\super\\Documents\\GitHub\\sequoia\\notebooks\\..\\data\\mesh_cleaner.py:747\u001b[0m, in \u001b[0;36mMeshCleaner.process_all\u001b[1;34m(self)\u001b[0m\n\u001b[0;32m    744\u001b[0m     pointcloud_results\u001b[38;5;241m.\u001b[39mappend(cloud_info)\n\u001b[0;32m    746\u001b[0m     \u001b[38;5;66;03m# Clean and save mesh\u001b[39;00m\n\u001b[1;32m--> 747\u001b[0m     \u001b[38;5;28;43mself\u001b[39;49m\u001b[38;5;241;43m.\u001b[39;49m\u001b[43mclean_mesh\u001b[49m\u001b[43m(\u001b[49m\u001b[43mfile_path\u001b[49m\u001b[43m,\u001b[49m\u001b[43m \u001b[49m\u001b[43moutput_path\u001b[49m\u001b[43m)\u001b[49m\n\u001b[0;32m    749\u001b[0m \u001b[38;5;66;03m# Check all models after processing\u001b[39;00m\n\u001b[0;32m    750\u001b[0m watertight_count, non_watertight \u001b[38;5;241m=\u001b[39m \u001b[38;5;28mself\u001b[39m\u001b[38;5;241m.\u001b[39mverify_models(\u001b[38;5;28mself\u001b[39m\u001b[38;5;241m.\u001b[39moutput_dir)\n",
      "File \u001b[1;32mc:\\Users\\super\\Documents\\GitHub\\sequoia\\notebooks\\..\\data\\mesh_cleaner.py:286\u001b[0m, in \u001b[0;36mMeshCleaner.clean_mesh\u001b[1;34m(self, mesh_path, output_path)\u001b[0m\n\u001b[0;32m    282\u001b[0m         \u001b[38;5;28mprint\u001b[39m(\u001b[38;5;124m\"\u001b[39m\u001b[38;5;124m  ✗ Mesh is still not watertight after repair\u001b[39m\u001b[38;5;124m\"\u001b[39m)\n\u001b[0;32m    284\u001b[0m \u001b[38;5;28;01mif\u001b[39;00m \u001b[38;5;28mself\u001b[39m\u001b[38;5;241m.\u001b[39mremove_duplicates:\n\u001b[0;32m    285\u001b[0m     \u001b[38;5;66;03m# Updated method to remove duplicate faces\u001b[39;00m\n\u001b[1;32m--> 286\u001b[0m     mesh\u001b[38;5;241m.\u001b[39mupdate_faces(\u001b[43mmesh\u001b[49m\u001b[38;5;241;43m.\u001b[39;49m\u001b[43munique_faces\u001b[49m\u001b[43m(\u001b[49m\u001b[43m)\u001b[49m)\n\u001b[0;32m    288\u001b[0m \u001b[38;5;28;01mif\u001b[39;00m \u001b[38;5;28mself\u001b[39m\u001b[38;5;241m.\u001b[39mscale:\n\u001b[0;32m    289\u001b[0m     max_dim \u001b[38;5;241m=\u001b[39m \u001b[38;5;28mmax\u001b[39m(mesh\u001b[38;5;241m.\u001b[39mextents)\n",
      "File \u001b[1;32mc:\\Users\\super\\Documents\\GitHub\\sequoia\\.venv\\Lib\\site-packages\\trimesh\\base.py:1296\u001b[0m, in \u001b[0;36mTrimesh.unique_faces\u001b[1;34m(self)\u001b[0m\n\u001b[0;32m   1287\u001b[0m \u001b[38;5;250m\u001b[39m\u001b[38;5;124;03m\"\"\"\u001b[39;00m\n\u001b[0;32m   1288\u001b[0m \u001b[38;5;124;03mOn the current mesh find which faces are unique.\u001b[39;00m\n\u001b[0;32m   1289\u001b[0m \n\u001b[1;32m   (...)\u001b[0m\n\u001b[0;32m   1293\u001b[0m \u001b[38;5;124;03m  A mask where the first occurrence of a unique face is true.\u001b[39;00m\n\u001b[0;32m   1294\u001b[0m \u001b[38;5;124;03m\"\"\"\u001b[39;00m\n\u001b[0;32m   1295\u001b[0m mask \u001b[38;5;241m=\u001b[39m np\u001b[38;5;241m.\u001b[39mzeros(\u001b[38;5;28mlen\u001b[39m(\u001b[38;5;28mself\u001b[39m\u001b[38;5;241m.\u001b[39mfaces), dtype\u001b[38;5;241m=\u001b[39m\u001b[38;5;28mbool\u001b[39m)\n\u001b[1;32m-> 1296\u001b[0m mask[grouping\u001b[38;5;241m.\u001b[39munique_rows(\u001b[43mnp\u001b[49m\u001b[38;5;241;43m.\u001b[39;49m\u001b[43msort\u001b[49m\u001b[43m(\u001b[49m\u001b[38;5;28;43mself\u001b[39;49m\u001b[38;5;241;43m.\u001b[39;49m\u001b[43mfaces\u001b[49m\u001b[43m,\u001b[49m\u001b[43m \u001b[49m\u001b[43maxis\u001b[49m\u001b[38;5;241;43m=\u001b[39;49m\u001b[38;5;241;43m1\u001b[39;49m\u001b[43m)\u001b[49m)[\u001b[38;5;241m0\u001b[39m]] \u001b[38;5;241m=\u001b[39m \u001b[38;5;28;01mTrue\u001b[39;00m\n\u001b[0;32m   1297\u001b[0m \u001b[38;5;28;01mreturn\u001b[39;00m mask\n",
      "File \u001b[1;32mc:\\Users\\super\\Documents\\GitHub\\sequoia\\.venv\\Lib\\site-packages\\numpy\\_core\\fromnumeric.py:1122\u001b[0m, in \u001b[0;36msort\u001b[1;34m(a, axis, kind, order, stable)\u001b[0m\n\u001b[0;32m   1120\u001b[0m \u001b[38;5;28;01melse\u001b[39;00m:\n\u001b[0;32m   1121\u001b[0m     a \u001b[38;5;241m=\u001b[39m asanyarray(a)\u001b[38;5;241m.\u001b[39mcopy(order\u001b[38;5;241m=\u001b[39m\u001b[38;5;124m\"\u001b[39m\u001b[38;5;124mK\u001b[39m\u001b[38;5;124m\"\u001b[39m)\n\u001b[1;32m-> 1122\u001b[0m \u001b[43ma\u001b[49m\u001b[38;5;241;43m.\u001b[39;49m\u001b[43msort\u001b[49m\u001b[43m(\u001b[49m\u001b[43maxis\u001b[49m\u001b[38;5;241;43m=\u001b[39;49m\u001b[43maxis\u001b[49m\u001b[43m,\u001b[49m\u001b[43m \u001b[49m\u001b[43mkind\u001b[49m\u001b[38;5;241;43m=\u001b[39;49m\u001b[43mkind\u001b[49m\u001b[43m,\u001b[49m\u001b[43m \u001b[49m\u001b[43morder\u001b[49m\u001b[38;5;241;43m=\u001b[39;49m\u001b[43morder\u001b[49m\u001b[43m,\u001b[49m\u001b[43m \u001b[49m\u001b[43mstable\u001b[49m\u001b[38;5;241;43m=\u001b[39;49m\u001b[43mstable\u001b[49m\u001b[43m)\u001b[49m\n\u001b[0;32m   1123\u001b[0m \u001b[38;5;28;01mreturn\u001b[39;00m a\n",
      "File \u001b[1;32mc:\\Users\\super\\Documents\\GitHub\\sequoia\\.venv\\Lib\\site-packages\\trimesh\\caching.py:267\u001b[0m, in \u001b[0;36mTrackedArray.sort\u001b[1;34m(self, *args, **kwargs)\u001b[0m\n\u001b[0;32m    265\u001b[0m \u001b[38;5;28;01mdef\u001b[39;00m\u001b[38;5;250m \u001b[39m\u001b[38;5;21msort\u001b[39m(\u001b[38;5;28mself\u001b[39m, \u001b[38;5;241m*\u001b[39margs, \u001b[38;5;241m*\u001b[39m\u001b[38;5;241m*\u001b[39mkwargs):\n\u001b[0;32m    266\u001b[0m     \u001b[38;5;28mself\u001b[39m\u001b[38;5;241m.\u001b[39m_dirty_hash \u001b[38;5;241m=\u001b[39m \u001b[38;5;28;01mTrue\u001b[39;00m\n\u001b[1;32m--> 267\u001b[0m     \u001b[38;5;28;01mreturn\u001b[39;00m \u001b[38;5;28;43msuper\u001b[39;49m\u001b[43m(\u001b[49m\u001b[38;5;28;43mself\u001b[39;49m\u001b[38;5;241;43m.\u001b[39;49m\u001b[38;5;18;43m__class__\u001b[39;49m\u001b[43m,\u001b[49m\u001b[43m \u001b[49m\u001b[38;5;28;43mself\u001b[39;49m\u001b[43m)\u001b[49m\u001b[38;5;241;43m.\u001b[39;49m\u001b[43msort\u001b[49m\u001b[43m(\u001b[49m\u001b[38;5;241;43m*\u001b[39;49m\u001b[43margs\u001b[49m\u001b[43m,\u001b[49m\u001b[43m \u001b[49m\u001b[38;5;241;43m*\u001b[39;49m\u001b[38;5;241;43m*\u001b[39;49m\u001b[43mkwargs\u001b[49m\u001b[43m)\u001b[49m\n",
      "\u001b[1;31mKeyboardInterrupt\u001b[0m: "
     ]
    }
   ],
   "source": [
    "cleaner = MeshCleaner()\n",
    "cleaner.process_all()"
   ]
  }
 ],
 "metadata": {
  "jupytext": {
   "cell_metadata_filter": "title,-all",
   "main_language": "python",
   "notebook_metadata_filter": "-all"
  },
  "kernelspec": {
   "display_name": ".venv",
   "language": "python",
   "name": "python3"
  },
  "language_info": {
   "codemirror_mode": {
    "name": "ipython",
    "version": 3
   },
   "file_extension": ".py",
   "mimetype": "text/x-python",
   "name": "python",
   "nbconvert_exporter": "python",
   "pygments_lexer": "ipython3",
   "version": "3.11.9"
  }
 },
 "nbformat": 4,
 "nbformat_minor": 5
}
