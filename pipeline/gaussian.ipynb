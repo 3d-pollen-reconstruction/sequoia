{
 "cells": [
  {
   "cell_type": "code",
   "execution_count": 3,
   "metadata": {},
   "outputs": [
    {
     "name": "stderr",
     "output_type": "stream",
     "text": [
      "Exporting scenes for Gaussian Splatting: 100%|██████████| 207/207 [00:10<00:00, 20.26it/s]"
     ]
    },
    {
     "name": "stdout",
     "output_type": "stream",
     "text": [
      "\n",
      "✅ Export complete. All scenes saved in: gaussian_splatting_input\n"
     ]
    },
    {
     "name": "stderr",
     "output_type": "stream",
     "text": [
      "\n"
     ]
    }
   ],
   "source": [
    "import os\n",
    "import json\n",
    "import math\n",
    "from pathlib import Path\n",
    "from tqdm import tqdm\n",
    "from torchvision.transforms.functional import to_pil_image\n",
    "import sys\n",
    "sys.path.append(\"..\")\n",
    "\n",
    "from data import PollenDataset\n",
    "import torchvision.transforms as transforms\n",
    "dataset = PollenDataset(image_transforms=transforms.ToTensor())\n",
    "\n",
    "(left_img, right_img), (vertices, faces) = dataset[0]\n",
    "    \n",
    "\n",
    "# Zielverzeichnis für GS\n",
    "output_root = \"gaussian_splatting_input\"\n",
    "os.makedirs(output_root, exist_ok=True)\n",
    "\n",
    "def create_transforms_json(scene_dir):\n",
    "    \"\"\"Erstellt eine transforms.json mit 2 orthogonalen Kamerapositionen.\"\"\"\n",
    "    transform_data = {\n",
    "        \"camera_angle_x\": math.radians(50),  # ~50mm FOV\n",
    "        \"frames\": [\n",
    "            {\n",
    "                \"file_path\": \"images/view_000\",\n",
    "                \"transform_matrix\": [\n",
    "                    [1, 0, 0, 0],\n",
    "                    [0, 0, -1, 0],\n",
    "                    [0, 1, 0, 1],\n",
    "                    [0, 0, 0, 1]\n",
    "                ]\n",
    "            },\n",
    "            {\n",
    "                \"file_path\": \"images/view_001\",\n",
    "                \"transform_matrix\": [\n",
    "                    [1, 0, 0, 0],\n",
    "                    [0, 1, 0, 1],\n",
    "                    [0, 0, 1, 0],\n",
    "                    [0, 0, 0, 1]\n",
    "                ]\n",
    "            }\n",
    "        ]\n",
    "    }\n",
    "\n",
    "    out_path = os.path.join(scene_dir, \"transforms.json\")\n",
    "    with open(out_path, \"w\") as f:\n",
    "        json.dump(transform_data, f, indent=4)\n",
    "    return out_path\n",
    "\n",
    "\n",
    "def save_sample_for_gs(index, left_tensor, right_tensor):\n",
    "    \"\"\"Speichert Bilder und JSON für ein Sample\"\"\"\n",
    "    scene_name = f\"scene_{index:03d}\"\n",
    "    scene_dir = os.path.join(output_root, scene_name)\n",
    "    image_dir = os.path.join(scene_dir, \"images\")\n",
    "    Path(image_dir).mkdir(parents=True, exist_ok=True)\n",
    "\n",
    "    # Speichern der Bilder\n",
    "    left_img = to_pil_image(left_tensor)\n",
    "    right_img = to_pil_image(right_tensor)\n",
    "    left_img.save(os.path.join(image_dir, \"view_000.png\"))\n",
    "    right_img.save(os.path.join(image_dir, \"view_001.png\"))\n",
    "\n",
    "    # JSON generieren\n",
    "    create_transforms_json(scene_dir)\n",
    "\n",
    "\n",
    "# Main Loop: Alle Samples verarbeiten\n",
    "for idx in tqdm(range(len(dataset)), desc=\"Exporting scenes for Gaussian Splatting\"):\n",
    "    (left, right), _ = dataset[idx]\n",
    "    save_sample_for_gs(idx, left, right)\n",
    "\n",
    "print(f\"\\n✅ Export complete. All scenes saved in: {output_root}\")\n"
   ]
  }
 ],
 "metadata": {
  "kernelspec": {
   "display_name": ".venv",
   "language": "python",
   "name": "python3"
  },
  "language_info": {
   "codemirror_mode": {
    "name": "ipython",
    "version": 3
   },
   "file_extension": ".py",
   "mimetype": "text/x-python",
   "name": "python",
   "nbconvert_exporter": "python",
   "pygments_lexer": "ipython3",
   "version": "3.11.9"
  }
 },
 "nbformat": 4,
 "nbformat_minor": 2
}
