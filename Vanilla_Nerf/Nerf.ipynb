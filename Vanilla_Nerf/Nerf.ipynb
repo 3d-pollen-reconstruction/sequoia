{
 "cells": [
  {
   "cell_type": "code",
   "execution_count": 1,
   "id": "257860de-71ad-4386-88bd-fc945e3bc256",
   "metadata": {},
   "outputs": [],
   "source": [
    "import torch\n",
    "import torch.nn as nn\n",
    "import numpy as np\n",
    "\n",
    "import os\n",
    "import imageio\n",
    "import matplotlib.pyplot as plt\n",
    "from torch.utils.data import DataLoader\n",
    "\n",
    "from dataset_org import get_rays\n",
    "from rendering import rendering\n",
    "from model import Voxels, Nerf\n",
    "from ml_helpers import training"
   ]
  },
  {
   "cell_type": "markdown",
   "id": "5922e325-8976-4a36-88aa-908cbe4d3953",
   "metadata": {},
   "source": [
    "# Camera / Dataset"
   ]
  },
  {
   "cell_type": "code",
   "execution_count": 5,
   "id": "66e62ab8-9524-48b6-a646-01b27c9a3fd6",
   "metadata": {},
   "outputs": [
    {
     "name": "stdout",
     "output_type": "stream",
     "text": [
      "Fetched o.shape=(90, 160000, 3), dims=3\n",
      "Warm-up crop: 45×80000, total rays=3600000\n",
      "Fetched test_o.shape=(10, 160000, 3), dims=3\n",
      "Train rays=14400000, Test rays=1600000\n",
      "Train shape=torch.Size([14400000, 9]), Test shape=torch.Size([1600000, 9])\n"
     ]
    }
   ],
   "source": [
    "import torch\n",
    "from torch.utils.data import DataLoader\n",
    "\n",
    "# Batch size\n",
    "batch_size = 1024\n",
    "data_dir = 'data/21585_views100'\n",
    "# Fetch rays (might be [N,H,W,3], [H,W,3], or already flattened [M,3])\n",
    "o, d, target_px_values = get_rays(datapath=data_dir, mode='train')\n",
    "\n",
    "print(f\"Fetched o.shape={o.shape}, dims={o.ndim}\")\n",
    "\n",
    "# Dynamically flatten for training\n",
    "o_flat, d_flat, t_flat = None, None, None\n",
    "if o.ndim == 4:\n",
    "    N, H, W, C = o.shape\n",
    "    o_flat = torch.from_numpy(o).reshape(-1, C).float()\n",
    "    d_flat = torch.from_numpy(d).reshape(-1, C).float()\n",
    "    t_flat = torch.from_numpy(target_px_values).reshape(-1, C).float()\n",
    "elif o.ndim == 3:\n",
    "    H, W, C = o.shape\n",
    "    o_flat = torch.from_numpy(o).reshape(-1, C).float()\n",
    "    d_flat = torch.from_numpy(d).reshape(-1, C).float()\n",
    "    t_flat = torch.from_numpy(target_px_values).reshape(-1, C).float()\n",
    "elif o.ndim == 2:\n",
    "    o_flat = torch.from_numpy(o).float()\n",
    "    d_flat = torch.from_numpy(d).float()\n",
    "    t_flat = torch.from_numpy(target_px_values).float()\n",
    "else:\n",
    "    raise ValueError(f\"Unsupported o.ndim={o.ndim}\")\n",
    "\n",
    "# Training DataLoader\n",
    "dataset = torch.cat((o_flat, d_flat, t_flat), dim=1)\n",
    "dataloader = DataLoader(dataset, batch_size=batch_size, shuffle=True)\n",
    "\n",
    "# Warm-up loader: center-crop half the spatial dims if available\n",
    "if o.ndim >= 3:\n",
    "    crop_frac = 0.5\n",
    "    crop_h = int((H if o.ndim==4 else H) * crop_frac)\n",
    "    crop_w = int((W if o.ndim==4 else W) * crop_frac)\n",
    "    start_h = ((H if o.ndim==4 else H) - crop_h) // 2\n",
    "    start_w = ((W if o.ndim==4 else W) - crop_w) // 2\n",
    "\n",
    "    if o.ndim == 4:\n",
    "        o_crop = o[:, start_h:start_h+crop_h, start_w:start_w+crop_w, :]\n",
    "        d_crop = d[:, start_h:start_h+crop_h, start_w:start_w+crop_w, :]\n",
    "        t_crop = target_px_values[:, start_h:start_h+crop_h, start_w:start_w+crop_w, :]\n",
    "    else:\n",
    "        o_crop = o[start_h:start_h+crop_h, start_w:start_w+crop_w, :]\n",
    "        d_crop = d[start_h:start_h+crop_h, start_w:start_w+crop_w, :]\n",
    "        t_crop = target_px_values[start_h:start_h+crop_h, start_w:start_w+crop_w, :]\n",
    "\n",
    "    C_crop = o_crop.shape[-1]\n",
    "    o_crop_flat = torch.from_numpy(o_crop).reshape(-1, C_crop).float()\n",
    "    d_crop_flat = torch.from_numpy(d_crop).reshape(-1, C_crop).float()\n",
    "    t_crop_flat = torch.from_numpy(t_crop).reshape(-1, C_crop).float()\n",
    "\n",
    "    warmup_dataset = torch.cat((o_crop_flat, d_crop_flat, t_crop_flat), dim=1)\n",
    "    dataloader_warmup = DataLoader(warmup_dataset, batch_size=batch_size, shuffle=True)\n",
    "    print(f\"Warm-up crop: {crop_h}×{crop_w}, total rays={len(warmup_dataset)}\")\n",
    "else:\n",
    "    dataloader_warmup = None\n",
    "    print(\"Skipping warm-up loader: spatial dims unknown\")\n",
    "\n",
    "# Test loader\n",
    "test_o, test_d, test_t = get_rays(datapath=data_dir, mode='test')\n",
    "print(f\"Fetched test_o.shape={test_o.shape}, dims={test_o.ndim}\")\n",
    "\n",
    "# Flatten test similarly\n",
    "t_flatest, d_flatest, t_flatest = None, None, None\n",
    "if test_o.ndim >= 3:\n",
    "    C_test = test_o.shape[-1]\n",
    "    t_flatest = torch.from_numpy(test_o.reshape(-1, C_test)).float()\n",
    "    d_flatest = torch.from_numpy(test_d.reshape(-1, C_test)).float()\n",
    "    t_flatest = torch.from_numpy(test_t.reshape(-1, C_test)).float()\n",
    "else:\n",
    "    t_flatest = torch.from_numpy(test_o).float()\n",
    "    d_flatest = torch.from_numpy(test_d).float()\n",
    "    t_flatest = torch.from_numpy(test_t).float()\n",
    "\n",
    "test_dataset = torch.cat((t_flatest, d_flatest, t_flatest), dim=1)\n",
    "dataloader_test = DataLoader(test_dataset, batch_size=batch_size, shuffle=False)\n",
    "\n",
    "print(f\"Train rays={len(dataset)}, Test rays={len(test_dataset)}\")\n",
    "print(f\"Train shape={dataset.shape}, Test shape={test_dataset.shape}\")\n"
   ]
  },
  {
   "cell_type": "markdown",
   "id": "bbcc6284-ff38-4a9d-a914-7cd8ff9163fb",
   "metadata": {},
   "source": [
    "# Training"
   ]
  },
  {
   "cell_type": "code",
   "execution_count": 6,
   "id": "edd96eec-e258-469d-8781-da1dc2bd1ca6",
   "metadata": {},
   "outputs": [
    {
     "name": "stderr",
     "output_type": "stream",
     "text": [
      "Epoch 1/1: 100%|██████████| 3516/3516 [01:00<00:00, 58.25it/s]"
     ]
    },
    {
     "name": "stdout",
     "output_type": "stream",
     "text": [
      "[Epoch 1]  Avg Loss: 0.0140  |  Avg PSNR: 21.79 dB\n"
     ]
    },
    {
     "name": "stderr",
     "output_type": "stream",
     "text": [
      "\n"
     ]
    },
    {
     "data": {
      "image/png": "[encoded data removed]",
      "text/plain": [
       "<Figure size 600x300 with 1 Axes>"
      ]
     },
     "metadata": {},
     "output_type": "display_data"
    },
    {
     "name": "stderr",
     "output_type": "stream",
     "text": [
      "Epoch 1/10:  39%|███▊      | 5416/14063 [01:33<02:29, 57.71it/s]\n"
     ]
    },
    {
     "ename": "KeyboardInterrupt",
     "evalue": "",
     "output_type": "error",
     "traceback": [
      "\u001b[1;31m---------------------------------------------------------------------------\u001b[0m",
      "\u001b[1;31mKeyboardInterrupt\u001b[0m                         Traceback (most recent call last)",
      "Cell \u001b[1;32mIn[6], line 39\u001b[0m\n\u001b[0;32m     36\u001b[0m plt\u001b[38;5;241m.\u001b[39mshow()\n\u001b[0;32m     38\u001b[0m \u001b[38;5;66;03m# --- Main training (full data) ---\u001b[39;00m\n\u001b[1;32m---> 39\u001b[0m batch_tr, epoch_tr, psnr_tr \u001b[38;5;241m=\u001b[39m \u001b[43mtraining\u001b[49m\u001b[43m(\u001b[49m\n\u001b[0;32m     40\u001b[0m \u001b[43m    \u001b[49m\u001b[43mmodel\u001b[49m\u001b[43m,\u001b[49m\u001b[43m \u001b[49m\u001b[43moptimizer\u001b[49m\u001b[43m,\u001b[49m\u001b[43m \u001b[49m\u001b[43mscheduler\u001b[49m\u001b[43m,\u001b[49m\n\u001b[0;32m     41\u001b[0m \u001b[43m    \u001b[49m\u001b[43mtn\u001b[49m\u001b[43m,\u001b[49m\u001b[43m \u001b[49m\u001b[43mtf\u001b[49m\u001b[43m,\u001b[49m\u001b[43m \u001b[49m\u001b[43mnb_bins\u001b[49m\u001b[43m,\u001b[49m\n\u001b[0;32m     42\u001b[0m \u001b[43m    \u001b[49m\u001b[43mnb_epochs\u001b[49m\u001b[38;5;241;43m=\u001b[39;49m\u001b[43mnb_epochs\u001b[49m\u001b[43m,\u001b[49m\n\u001b[0;32m     43\u001b[0m \u001b[43m    \u001b[49m\u001b[43mdata_loader\u001b[49m\u001b[38;5;241;43m=\u001b[39;49m\u001b[43mdataloader\u001b[49m\u001b[43m,\u001b[49m\n\u001b[0;32m     44\u001b[0m \u001b[43m    \u001b[49m\u001b[43mdevice\u001b[49m\u001b[38;5;241;43m=\u001b[39;49m\u001b[43mdevice\u001b[49m\n\u001b[0;32m     45\u001b[0m \u001b[43m)\u001b[49m\n\u001b[0;32m     47\u001b[0m \u001b[38;5;66;03m# Plot main per-batch loss\u001b[39;00m\n\u001b[0;32m     48\u001b[0m plt\u001b[38;5;241m.\u001b[39mfigure(figsize\u001b[38;5;241m=\u001b[39m(\u001b[38;5;241m6\u001b[39m,\u001b[38;5;241m3\u001b[39m))\n",
      "File \u001b[1;32mc:\\Users\\super\\Documents\\Github\\sequoia\\Vanilla_Nerf\\ml_helpers.py:37\u001b[0m, in \u001b[0;36mtraining\u001b[1;34m(model, optimizer, scheduler, tn, tf, nb_bins, nb_epochs, data_loader, device)\u001b[0m\n\u001b[0;32m     34\u001b[0m loss\u001b[38;5;241m.\u001b[39mbackward()\n\u001b[0;32m     35\u001b[0m optimizer\u001b[38;5;241m.\u001b[39mstep()\n\u001b[1;32m---> 37\u001b[0m mse_val \u001b[38;5;241m=\u001b[39m \u001b[43mloss\u001b[49m\u001b[38;5;241;43m.\u001b[39;49m\u001b[43mdetach\u001b[49m\u001b[43m(\u001b[49m\u001b[43m)\u001b[49m\u001b[38;5;241;43m.\u001b[39;49m\u001b[43mcpu\u001b[49m\u001b[43m(\u001b[49m\u001b[43m)\u001b[49m\u001b[38;5;241m.\u001b[39mitem()\n\u001b[0;32m     38\u001b[0m psnr   \u001b[38;5;241m=\u001b[39m mse2psnr(loss\u001b[38;5;241m.\u001b[39mdetach())\u001b[38;5;241m.\u001b[39mcpu()\u001b[38;5;241m.\u001b[39mitem()\n\u001b[0;32m     40\u001b[0m \u001b[38;5;66;03m# record\u001b[39;00m\n",
      "\u001b[1;31mKeyboardInterrupt\u001b[0m: "
     ]
    }
   ],
   "source": [
    "import matplotlib.pyplot as plt\n",
    "\n",
    "device = \"cuda\"\n",
    "\n",
    "\n",
    "torch.manual_seed(42)\n",
    "np.random.seed(42)\n",
    "\n",
    "\n",
    "tn, tf           = 8.0, 12.0\n",
    "nb_epochs        = 10\n",
    "lr, gamma        = 1e-4, 0.5\n",
    "nb_bins          = 100\n",
    "\n",
    "model     = Nerf(hidden_dim=128).to(device)\n",
    "optimizer = torch.optim.Adam(model.parameters(), lr=lr)\n",
    "scheduler = torch.optim.lr_scheduler.MultiStepLR(\n",
    "    optimizer, milestones=[5, 10], gamma=gamma\n",
    ")\n",
    "\n",
    "# --- Warm-up (1 epoch on the center-crop loader) ---\n",
    "batch_wu, epoch_wu, psnr_wu = training(\n",
    "    model, optimizer, scheduler,\n",
    "    tn, tf, nb_bins,\n",
    "    nb_epochs=1,\n",
    "    data_loader=dataloader_warmup,\n",
    "    device=device\n",
    ")\n",
    "\n",
    "# Plot warm-up per-batch loss\n",
    "plt.figure(figsize=(6,3))\n",
    "plt.plot(batch_wu, color='C2')\n",
    "plt.title(\"Warm-up: Per-Batch MSE Loss\")\n",
    "plt.xlabel(\"Batch #\")\n",
    "plt.ylabel(\"MSE\")\n",
    "plt.show()\n",
    "\n",
    "# --- Main training (full data) ---\n",
    "batch_tr, epoch_tr, psnr_tr = training(\n",
    "    model, optimizer, scheduler,\n",
    "    tn, tf, nb_bins,\n",
    "    nb_epochs=nb_epochs,\n",
    "    data_loader=dataloader,\n",
    "    device=device\n",
    ")\n",
    "\n",
    "# Plot main per-batch loss\n",
    "plt.figure(figsize=(6,3))\n",
    "plt.plot(batch_tr, color='C0')\n",
    "plt.title(\"Training: Per-Batch MSE Loss\")\n",
    "plt.xlabel(\"Batch #\")\n",
    "plt.ylabel(\"MSE\")\n",
    "plt.show()\n",
    "\n",
    "# Plot per-epoch averages & PSNR (combined warm-up + main)\n",
    "all_epoch_losses = epoch_wu + epoch_tr\n",
    "all_epoch_psnrs  = psnr_wu  + psnr_tr\n",
    "epochs = list(range(1, 1 + len(all_epoch_losses)))\n",
    "\n",
    "fig, ax1 = plt.subplots(figsize=(8,4))\n",
    "ax2 = ax1.twinx()\n",
    "ax1.plot(epochs, all_epoch_losses, '-o', color='C0', label='Avg MSE Loss')\n",
    "ax2.plot(epochs, all_epoch_psnrs, '--s', color='C1', label='Avg PSNR (dB)')\n",
    "\n",
    "ax1.set_xlabel('Epoch')\n",
    "ax1.set_ylabel('Avg MSE Loss', color='C0')\n",
    "ax2.set_ylabel('Avg PSNR (dB)', color='C1')\n",
    "ax1.legend(loc='upper left')\n",
    "ax2.legend(loc='upper right')\n",
    "plt.title(\"Epoch-wise Metrics (Warm-up + Training)\")\n",
    "plt.show()\n"
   ]
  },
  {
   "cell_type": "markdown",
   "id": "d963c4ed",
   "metadata": {},
   "source": []
  },
  {
   "cell_type": "code",
   "execution_count": 1,
   "id": "e2b2ceae-86b6-4d6d-aafe-ac3627807f50",
   "metadata": {},
   "outputs": [
    {
     "ename": "NameError",
     "evalue": "name 'torch' is not defined",
     "output_type": "error",
     "traceback": [
      "\u001b[1;31m---------------------------------------------------------------------------\u001b[0m",
      "\u001b[1;31mNameError\u001b[0m                                 Traceback (most recent call last)",
      "Cell \u001b[1;32mIn[1], line 1\u001b[0m\n\u001b[1;32m----> 1\u001b[0m \u001b[43mtorch\u001b[49m\u001b[38;5;241m.\u001b[39msave(model, \u001b[38;5;124m\"\u001b[39m\u001b[38;5;124m./models/model_nerf_21602\u001b[39m\u001b[38;5;124m\"\u001b[39m)\n",
      "\u001b[1;31mNameError\u001b[0m: name 'torch' is not defined"
     ]
    }
   ],
   "source": [
    "torch.save(model, \"./models/model_nerf_21602\")"
   ]
  }
 ],
 "metadata": {
  "kernelspec": {
   "display_name": ".venv",
   "language": "python",
   "name": "python3"
  },
  "language_info": {
   "codemirror_mode": {
    "name": "ipython",
    "version": 3
   },
   "file_extension": ".py",
   "mimetype": "text/x-python",
   "name": "python",
   "nbconvert_exporter": "python",
   "pygments_lexer": "ipython3",
   "version": "3.11.9"
  }
 },
 "nbformat": 4,
 "nbformat_minor": 5
}
