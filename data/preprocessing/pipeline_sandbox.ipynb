{
 "cells": [
  {
   "cell_type": "code",
   "execution_count": 29,
   "metadata": {},
   "outputs": [
    {
     "data": {
      "text/plain": [
       "True"
      ]
     },
     "execution_count": 29,
     "metadata": {},
     "output_type": "execute_result"
    }
   ],
   "source": [
    "import os\n",
    "from dotenv import load_dotenv\n",
    "\n",
    "load_dotenv()"
   ]
  },
  {
   "cell_type": "code",
   "execution_count": 30,
   "metadata": {},
   "outputs": [
    {
     "data": {
      "text/plain": [
       "'C:/Users/fahrn/Documents/Classes/bat/sequoia/data\\\\raw'"
      ]
     },
     "execution_count": 30,
     "metadata": {},
     "output_type": "execute_result"
    }
   ],
   "source": [
    "raw_meshes = os.path.join(os.getenv(\"DATA_DIR_PATH\"), 'raw')\n",
    "\n",
    "raw_meshes"
   ]
  },
  {
   "cell_type": "code",
   "execution_count": 31,
   "metadata": {},
   "outputs": [],
   "source": [
    "# list all .stl files in the raw meshes directory\n",
    "stl_files = [f for f in os.listdir(raw_meshes) if f.endswith('.stl')]"
   ]
  },
  {
   "cell_type": "code",
   "execution_count": 37,
   "metadata": {},
   "outputs": [
    {
     "name": "stdout",
     "output_type": "stream",
     "text": [
      "Duplicate group for base '_Prunus%20avium%20-%20Sweet%20cherry_NIH3D.stl':\n",
      "  Full filename: 17812_Prunus%20avium%20-%20Sweet%20cherry_NIH3D.stl  (stripped number: 17812)\n",
      "  Full filename: 17820_Prunus%20avium%20-%20Sweet%20cherry_NIH3D.stl  (stripped number: 17820)\n",
      "\n",
      "Duplicate group for base '_Ranunculus%20repens%20-%20Buttercup_NIH3D.stl':\n",
      "  Full filename: 17817_Ranunculus%20repens%20-%20Buttercup_NIH3D.stl  (stripped number: 17817)\n",
      "  Full filename: 17826_Ranunculus%20repens%20-%20Buttercup_NIH3D.stl  (stripped number: 17826)\n",
      "\n",
      "Duplicate group for base '_Hedera%20helix%20-%20Common%20ivy_NIH3D.stl':\n",
      "  Full filename: 17832_Hedera%20helix%20-%20Common%20ivy_NIH3D.stl  (stripped number: 17832)\n",
      "  Full filename: 17879_Hedera%20helix%20-%20Common%20ivy_NIH3D.stl  (stripped number: 17879)\n",
      "\n",
      "Duplicate group for base '_Nymphaea%20alba%20-%20European%20white%20water%20lily_NIH3D.stl':\n",
      "  Full filename: 17833_Nymphaea%20alba%20-%20European%20white%20water%20lily_NIH3D.stl  (stripped number: 17833)\n",
      "  Full filename: 20473_Nymphaea%20alba%20-%20European%20white%20water%20lily_NIH3D.stl  (stripped number: 20473)\n",
      "\n",
      "Duplicate group for base '_Germinating%20lily%20pollen_NIH3D.stl':\n",
      "  Full filename: 17900_Germinating%20lily%20pollen_NIH3D.stl  (stripped number: 17900)\n",
      "  Full filename: 21252_Germinating%20lily%20pollen_NIH3D.stl  (stripped number: 21252)\n",
      "\n",
      "Duplicate group for base '_Peruvian_lily-Alstroemeria_sp_NIH3D.stl':\n",
      "  Full filename: 20057_Peruvian_lily-Alstroemeria_sp_NIH3D.stl  (stripped number: 20057)\n",
      "  Full filename: 20621_Peruvian_lily-Alstroemeria_sp_NIH3D.stl  (stripped number: 20621)\n",
      "\n",
      "Duplicate group for base '_ambrosia_sp-ragweed_NIH3D.stl':\n",
      "  Full filename: 20096_ambrosia_sp-ragweed_NIH3D.stl  (stripped number: 20096)\n",
      "  Full filename: 20611_ambrosia_sp-ragweed_NIH3D.stl  (stripped number: 20611)\n",
      "\n",
      "Duplicate group for base '_atriplex_hastata_NIH3D.stl':\n",
      "  Full filename: 20471_atriplex_hastata_NIH3D.stl  (stripped number: 20471)\n",
      "  Full filename: 20610_atriplex_hastata_NIH3D.stl  (stripped number: 20610)\n",
      "\n",
      "Duplicate group for base '_larix_decidua_1_NIH3D.stl':\n",
      "  Full filename: 20703_larix_decidua_1_NIH3D.stl  (stripped number: 20703)\n",
      "  Full filename: 20858_larix_decidua_1_NIH3D.stl  (stripped number: 20858)\n",
      "\n",
      "Duplicate group for base '_malus_sylvestris_NIH3D.stl':\n",
      "  Full filename: 21103_malus_sylvestris_NIH3D.stl  (stripped number: 21103)\n",
      "  Full filename: 21611_malus_sylvestris_NIH3D.stl  (stripped number: 21611)\n",
      "\n",
      "Duplicate group for base '_umbilicus_rupestris_NIH3D.stl':\n",
      "  Full filename: 21191_umbilicus_rupestris_NIH3D.stl  (stripped number: 21191)\n",
      "  Full filename: 21257_umbilicus_rupestris_NIH3D.stl  (stripped number: 21257)\n",
      "\n",
      "Duplicate group for base '_saxifraga_stellaris_NIH3D.stl':\n",
      "  Full filename: 21285_saxifraga_stellaris_NIH3D.stl  (stripped number: 21285)\n",
      "  Full filename: 21465_saxifraga_stellaris_NIH3D.stl  (stripped number: 21465)\n",
      "\n",
      "Duplicate group for base '_anthoxanthum_odoratum_NIH3D.stl':\n",
      "  Full filename: 21464_anthoxanthum_odoratum_NIH3D.stl  (stripped number: 21464)\n",
      "  Full filename: 21467_anthoxanthum_odoratum_NIH3D.stl  (stripped number: 21467)\n",
      "\n",
      "Duplicate group for base '_valerianella_locusta_NIH3D.stl':\n",
      "  Full filename: 21536_valerianella_locusta_NIH3D.stl  (stripped number: 21536)\n",
      "  Full filename: 21583_valerianella_locusta_NIH3D.stl  (stripped number: 21583)\n",
      "\n",
      "Total number of duplicates: 14\n"
     ]
    }
   ],
   "source": [
    "from collections import defaultdict\n",
    "\n",
    "# Create a dictionary that maps the filename without the first five characters to a list of the full filenames\n",
    "file_groups = defaultdict(list)\n",
    "for file in stl_files:\n",
    "    # The \"base\" is the filename with the first five characters removed\n",
    "    base = file[5:]\n",
    "    file_groups[base].append(file)\n",
    "\n",
    "# For each group that contains duplicates, print out the full filenames with the stripped prefix\n",
    "for base, files in file_groups.items():\n",
    "    if len(files) > 1:\n",
    "        print(f\"Duplicate group for base '{base}':\")\n",
    "        for file in files:\n",
    "            prefix = file[:5]  # the first five characters\n",
    "            print(f\"  Full filename: {file}  (stripped number: {prefix})\")\n",
    "        print()  # extra newline for readability\n",
    "\n",
    "# print the total number of duplicates\n",
    "print(f\"Total number of duplicates: {sum(len(files) - 1 for files in file_groups.values())}\")"
   ]
  },
  {
   "cell_type": "code",
   "execution_count": 21,
   "metadata": {},
   "outputs": [
    {
     "data": {
      "text/plain": [
       "14.0"
      ]
     },
     "execution_count": 21,
     "metadata": {},
     "output_type": "execute_result"
    }
   ],
   "source": [
    "len(duplicates)/2"
   ]
  },
  {
   "cell_type": "code",
   "execution_count": null,
   "metadata": {},
   "outputs": [],
   "source": []
  }
 ],
 "metadata": {
  "kernelspec": {
   "display_name": ".venv",
   "language": "python",
   "name": "python3"
  },
  "language_info": {
   "codemirror_mode": {
    "name": "ipython",
    "version": 3
   },
   "file_extension": ".py",
   "mimetype": "text/x-python",
   "name": "python",
   "nbconvert_exporter": "python",
   "pygments_lexer": "ipython3",
   "version": "3.11.5"
  }
 },
 "nbformat": 4,
 "nbformat_minor": 2
}
